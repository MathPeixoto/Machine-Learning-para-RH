{
  "nbformat": 4,
  "nbformat_minor": 0,
  "metadata": {
    "colab": {
      "name": "Machine Learning para RH.ipynb",
      "provenance": [],
      "collapsed_sections": [],
      "toc_visible": true,
      "authorship_tag": "ABX9TyOpTbeREWvfB4C4nhFfbSwu",
      "include_colab_link": true
    },
    "kernelspec": {
      "name": "python3",
      "display_name": "Python 3"
    }
  },
  "cells": [
    {
      "cell_type": "markdown",
      "metadata": {
        "id": "view-in-github",
        "colab_type": "text"
      },
      "source": [
        "<a href=\"https://colab.research.google.com/github/MathPeixoto/Machine-Learning-para-RH/blob/main/Machine_Learning_para_RH.ipynb\" target=\"_parent\"><img src=\"https://colab.research.google.com/assets/colab-badge.svg\" alt=\"Open In Colab\"/></a>"
      ]
    },
    {
      "cell_type": "markdown",
      "metadata": {
        "id": "tYojDOK0cSaI"
      },
      "source": [
        "**ANTES DE INICIAR O DESAFIO 1, É NECESSÁRIO REALIZAR ALGUNS PASSOS BÁSICOS, COMO CONFIGURAR O AMBIENTE E REALIZAR UMA LIMPEZA DOS DADOS PARA UMA ANÁLISE MAIS PRÓXIMA DA REALIDADE**"
      ]
    },
    {
      "cell_type": "markdown",
      "metadata": {
        "id": "NpX3qOFGMvBA"
      },
      "source": [
        "MONTANDO ARQUIVOS DO DRIVE E DESCOMPACTANDO-OS"
      ]
    },
    {
      "cell_type": "code",
      "metadata": {
        "id": "RXK994W8MYDT",
        "colab": {
          "base_uri": "https://localhost:8080/"
        },
        "outputId": "132af833-0d30-4c05-9262-d6a06ccaeb70"
      },
      "source": [
        "from google.colab import drive\n",
        "drive.mount('/content/gdrive')"
      ],
      "execution_count": null,
      "outputs": [
        {
          "output_type": "stream",
          "text": [
            "Mounted at /content/gdrive\n"
          ],
          "name": "stdout"
        }
      ]
    },
    {
      "cell_type": "code",
      "metadata": {
        "id": "uXBjwvtjU7iC",
        "colab": {
          "base_uri": "https://localhost:8080/"
        },
        "outputId": "b3abdf7f-e948-493e-83c1-dc43a0fad155"
      },
      "source": [
        "!unzip \"/content/gdrive/My Drive/archive.zip\""
      ],
      "execution_count": null,
      "outputs": [
        {
          "output_type": "stream",
          "text": [
            "Archive:  /content/gdrive/My Drive/archive.zip\n",
            "  inflating: HR_Engagement_Sat_Sales_UpdatedV4.0.csv  \n"
          ],
          "name": "stdout"
        }
      ]
    },
    {
      "cell_type": "markdown",
      "metadata": {
        "id": "eYh3DdEfVHdP"
      },
      "source": [
        "IMPORTANDO BIBLIOTECAS"
      ]
    },
    {
      "cell_type": "code",
      "metadata": {
        "id": "OZN3COsoVNp7"
      },
      "source": [
        "import numpy as np\n",
        "import pandas as pd\n",
        "import matplotlib.pyplot as plt\n",
        "import seaborn as sns\n",
        "sns.set_style('whitegrid')\n",
        "%matplotlib inline"
      ],
      "execution_count": null,
      "outputs": []
    },
    {
      "cell_type": "markdown",
      "metadata": {
        "id": "yew3QMomwO2Q"
      },
      "source": [
        "REALIZANDO UMA ANÁLISE DOS DADOS PARA VER QUAIS VARIÁVEIS PRECISAM SER MODIFICADAS OU EXCLUÍDAS PARA UMA MELHOR PERFORMANCE DO FUTURO MODELO DE MACHINE LEARNING E PARA UMA ANÁLISE MAIS CORRETA"
      ]
    },
    {
      "cell_type": "code",
      "metadata": {
        "id": "YhiJG8Xcw6YV",
        "colab": {
          "base_uri": "https://localhost:8080/",
          "height": 330
        },
        "outputId": "d7618a81-936a-4be7-a15f-378e6f84dee7"
      },
      "source": [
        "dataset_original = pd.read_csv(\"/content/HR_Engagement_Sat_Sales_UpdatedV4.0.csv\")\n",
        "dataset_original.tail() #uso esta linha para de uma única vez saber quantos registros\n",
        "                        #o dataset possui e quais as labels presentes"
      ],
      "execution_count": null,
      "outputs": [
        {
          "output_type": "execute_result",
          "data": {
            "text/html": [
              "<div>\n",
              "<style scoped>\n",
              "    .dataframe tbody tr th:only-of-type {\n",
              "        vertical-align: middle;\n",
              "    }\n",
              "\n",
              "    .dataframe tbody tr th {\n",
              "        vertical-align: top;\n",
              "    }\n",
              "\n",
              "    .dataframe thead th {\n",
              "        text-align: right;\n",
              "    }\n",
              "</style>\n",
              "<table border=\"1\" class=\"dataframe\">\n",
              "  <thead>\n",
              "    <tr style=\"text-align: right;\">\n",
              "      <th></th>\n",
              "      <th>ID</th>\n",
              "      <th>Name</th>\n",
              "      <th>Department</th>\n",
              "      <th>GEO</th>\n",
              "      <th>Role</th>\n",
              "      <th>Rising_Star</th>\n",
              "      <th>Will_Relocate</th>\n",
              "      <th>Critical</th>\n",
              "      <th>Trending Perf</th>\n",
              "      <th>Talent_Level</th>\n",
              "      <th>Validated_Talent_Level</th>\n",
              "      <th>Percent_Remote</th>\n",
              "      <th>EMP_Sat_OnPrem_1</th>\n",
              "      <th>EMP_Sat_OnPrem_2</th>\n",
              "      <th>EMP_Sat_OnPrem_3</th>\n",
              "      <th>EMP_Sat_OnPrem_4</th>\n",
              "      <th>EMP_Sat_OnPrem_5</th>\n",
              "      <th>EMP_Sat_Remote_1</th>\n",
              "      <th>EMP_Sat_Remote_2</th>\n",
              "      <th>EMP_Sat_Remote_3</th>\n",
              "      <th>EMP_Sat_Remote_4</th>\n",
              "      <th>EMP_Sat_Remote_5</th>\n",
              "      <th>EMP_Engagement_1</th>\n",
              "      <th>EMP_Engagement_2</th>\n",
              "      <th>EMP_Engagement_3</th>\n",
              "      <th>EMP_Engagement_4</th>\n",
              "      <th>EMP_Engagement_5</th>\n",
              "      <th>last_evaluation</th>\n",
              "      <th>number_project</th>\n",
              "      <th>average_montly_hours</th>\n",
              "      <th>time_spend_company</th>\n",
              "      <th>Work_accident</th>\n",
              "      <th>left_Company</th>\n",
              "      <th>CSR Factor</th>\n",
              "      <th>promotion_last_5years</th>\n",
              "      <th>sales</th>\n",
              "      <th>salary</th>\n",
              "      <th>Gender</th>\n",
              "      <th>LinkedIn_Hits</th>\n",
              "      <th>Emp_Work_Status2</th>\n",
              "      <th>Emp_Work_Status_3</th>\n",
              "      <th>Emp_Work_Status_4</th>\n",
              "      <th>Emp_Work_Status_5</th>\n",
              "      <th>Emp_Identity</th>\n",
              "      <th>Emp_Role</th>\n",
              "      <th>Emp_Position</th>\n",
              "      <th>Emp_Title</th>\n",
              "      <th>Women_Leave</th>\n",
              "      <th>Men_Leave</th>\n",
              "      <th>Emp_Competitive_1</th>\n",
              "      <th>Emp_Competitive_2</th>\n",
              "      <th>Emp_Competitive_3</th>\n",
              "      <th>Emp_Competitive_4</th>\n",
              "      <th>Emp_Competitive_5</th>\n",
              "      <th>Emp_Collaborative_1</th>\n",
              "      <th>Emp_Collaborative_2</th>\n",
              "      <th>Emp_Collaborative_3</th>\n",
              "      <th>Emp_Collaborative_4</th>\n",
              "      <th>Emp_Collaborative_5</th>\n",
              "      <th>Sensor_StepCount</th>\n",
              "      <th>Sensor_Heartbeat(Average/Min)</th>\n",
              "      <th>Sensor_Proximity(1-highest/10-lowest)</th>\n",
              "    </tr>\n",
              "  </thead>\n",
              "  <tbody>\n",
              "    <tr>\n",
              "      <th>14994</th>\n",
              "      <td>14995</td>\n",
              "      <td>EARLY</td>\n",
              "      <td>Operations</td>\n",
              "      <td>Korea</td>\n",
              "      <td>Level 2-4</td>\n",
              "      <td>NaN</td>\n",
              "      <td>1</td>\n",
              "      <td>NaN</td>\n",
              "      <td>3</td>\n",
              "      <td>6</td>\n",
              "      <td>6</td>\n",
              "      <td>1.0</td>\n",
              "      <td>NaN</td>\n",
              "      <td>NaN</td>\n",
              "      <td>NaN</td>\n",
              "      <td>NaN</td>\n",
              "      <td>NaN</td>\n",
              "      <td>5</td>\n",
              "      <td>5</td>\n",
              "      <td>4</td>\n",
              "      <td>5</td>\n",
              "      <td>4</td>\n",
              "      <td>1</td>\n",
              "      <td>2</td>\n",
              "      <td>3</td>\n",
              "      <td>2</td>\n",
              "      <td>1</td>\n",
              "      <td>1.0</td>\n",
              "      <td>4</td>\n",
              "      <td>252</td>\n",
              "      <td>5</td>\n",
              "      <td>0</td>\n",
              "      <td>1</td>\n",
              "      <td>NaN</td>\n",
              "      <td>0</td>\n",
              "      <td>technical</td>\n",
              "      <td>medium</td>\n",
              "      <td>F</td>\n",
              "      <td>1</td>\n",
              "      <td>1</td>\n",
              "      <td>2</td>\n",
              "      <td>2</td>\n",
              "      <td>2</td>\n",
              "      <td>2</td>\n",
              "      <td>1</td>\n",
              "      <td>2</td>\n",
              "      <td>1</td>\n",
              "      <td>1.0</td>\n",
              "      <td>NaN</td>\n",
              "      <td>1</td>\n",
              "      <td>1</td>\n",
              "      <td>2</td>\n",
              "      <td>3</td>\n",
              "      <td>2</td>\n",
              "      <td>4</td>\n",
              "      <td>2</td>\n",
              "      <td>2</td>\n",
              "      <td>3</td>\n",
              "      <td>1</td>\n",
              "      <td>1538</td>\n",
              "      <td>88</td>\n",
              "      <td>9</td>\n",
              "    </tr>\n",
              "    <tr>\n",
              "      <th>14995</th>\n",
              "      <td>14996</td>\n",
              "      <td>LUNSFORD</td>\n",
              "      <td>Sales</td>\n",
              "      <td>Australia</td>\n",
              "      <td>Level 2-4</td>\n",
              "      <td>NaN</td>\n",
              "      <td>1</td>\n",
              "      <td>NaN</td>\n",
              "      <td>3</td>\n",
              "      <td>6</td>\n",
              "      <td>6</td>\n",
              "      <td>1.0</td>\n",
              "      <td>NaN</td>\n",
              "      <td>NaN</td>\n",
              "      <td>NaN</td>\n",
              "      <td>NaN</td>\n",
              "      <td>NaN</td>\n",
              "      <td>5</td>\n",
              "      <td>5</td>\n",
              "      <td>4</td>\n",
              "      <td>5</td>\n",
              "      <td>4</td>\n",
              "      <td>1</td>\n",
              "      <td>2</td>\n",
              "      <td>3</td>\n",
              "      <td>2</td>\n",
              "      <td>1</td>\n",
              "      <td>1.0</td>\n",
              "      <td>4</td>\n",
              "      <td>232</td>\n",
              "      <td>5</td>\n",
              "      <td>0</td>\n",
              "      <td>1</td>\n",
              "      <td>NaN</td>\n",
              "      <td>0</td>\n",
              "      <td>technical</td>\n",
              "      <td>medium</td>\n",
              "      <td>F</td>\n",
              "      <td>6</td>\n",
              "      <td>1</td>\n",
              "      <td>1</td>\n",
              "      <td>2</td>\n",
              "      <td>4</td>\n",
              "      <td>1</td>\n",
              "      <td>2</td>\n",
              "      <td>2</td>\n",
              "      <td>1</td>\n",
              "      <td>1.0</td>\n",
              "      <td>NaN</td>\n",
              "      <td>1</td>\n",
              "      <td>5</td>\n",
              "      <td>1</td>\n",
              "      <td>4</td>\n",
              "      <td>4</td>\n",
              "      <td>3</td>\n",
              "      <td>1</td>\n",
              "      <td>4</td>\n",
              "      <td>5</td>\n",
              "      <td>5</td>\n",
              "      <td>1247</td>\n",
              "      <td>89</td>\n",
              "      <td>4</td>\n",
              "    </tr>\n",
              "    <tr>\n",
              "      <th>14996</th>\n",
              "      <td>14997</td>\n",
              "      <td>GOLDSMITH</td>\n",
              "      <td>Finance</td>\n",
              "      <td>China</td>\n",
              "      <td>Level 2-4</td>\n",
              "      <td>NaN</td>\n",
              "      <td>0</td>\n",
              "      <td>NaN</td>\n",
              "      <td>3</td>\n",
              "      <td>6</td>\n",
              "      <td>6</td>\n",
              "      <td>1.0</td>\n",
              "      <td>NaN</td>\n",
              "      <td>NaN</td>\n",
              "      <td>NaN</td>\n",
              "      <td>NaN</td>\n",
              "      <td>NaN</td>\n",
              "      <td>5</td>\n",
              "      <td>5</td>\n",
              "      <td>4</td>\n",
              "      <td>5</td>\n",
              "      <td>4</td>\n",
              "      <td>1</td>\n",
              "      <td>2</td>\n",
              "      <td>3</td>\n",
              "      <td>2</td>\n",
              "      <td>1</td>\n",
              "      <td>1.0</td>\n",
              "      <td>5</td>\n",
              "      <td>242</td>\n",
              "      <td>5</td>\n",
              "      <td>0</td>\n",
              "      <td>1</td>\n",
              "      <td>NaN</td>\n",
              "      <td>0</td>\n",
              "      <td>sales</td>\n",
              "      <td>low</td>\n",
              "      <td>F</td>\n",
              "      <td>4</td>\n",
              "      <td>4</td>\n",
              "      <td>3</td>\n",
              "      <td>1</td>\n",
              "      <td>5</td>\n",
              "      <td>1</td>\n",
              "      <td>1</td>\n",
              "      <td>2</td>\n",
              "      <td>1</td>\n",
              "      <td>1.0</td>\n",
              "      <td>NaN</td>\n",
              "      <td>2</td>\n",
              "      <td>2</td>\n",
              "      <td>1</td>\n",
              "      <td>2</td>\n",
              "      <td>4</td>\n",
              "      <td>4</td>\n",
              "      <td>2</td>\n",
              "      <td>3</td>\n",
              "      <td>4</td>\n",
              "      <td>5</td>\n",
              "      <td>1155</td>\n",
              "      <td>88</td>\n",
              "      <td>2</td>\n",
              "    </tr>\n",
              "    <tr>\n",
              "      <th>14997</th>\n",
              "      <td>14998</td>\n",
              "      <td>FLOOD</td>\n",
              "      <td>Human Resources</td>\n",
              "      <td>US</td>\n",
              "      <td>Level 2-4</td>\n",
              "      <td>NaN</td>\n",
              "      <td>0</td>\n",
              "      <td>NaN</td>\n",
              "      <td>3</td>\n",
              "      <td>6</td>\n",
              "      <td>6</td>\n",
              "      <td>1.0</td>\n",
              "      <td>NaN</td>\n",
              "      <td>NaN</td>\n",
              "      <td>NaN</td>\n",
              "      <td>NaN</td>\n",
              "      <td>NaN</td>\n",
              "      <td>5</td>\n",
              "      <td>5</td>\n",
              "      <td>4</td>\n",
              "      <td>5</td>\n",
              "      <td>4</td>\n",
              "      <td>1</td>\n",
              "      <td>2</td>\n",
              "      <td>3</td>\n",
              "      <td>2</td>\n",
              "      <td>1</td>\n",
              "      <td>1.0</td>\n",
              "      <td>5</td>\n",
              "      <td>223</td>\n",
              "      <td>6</td>\n",
              "      <td>0</td>\n",
              "      <td>1</td>\n",
              "      <td>NaN</td>\n",
              "      <td>0</td>\n",
              "      <td>accounting</td>\n",
              "      <td>medium</td>\n",
              "      <td>M</td>\n",
              "      <td>2</td>\n",
              "      <td>2</td>\n",
              "      <td>2</td>\n",
              "      <td>3</td>\n",
              "      <td>2</td>\n",
              "      <td>1</td>\n",
              "      <td>2</td>\n",
              "      <td>1</td>\n",
              "      <td>1</td>\n",
              "      <td>NaN</td>\n",
              "      <td>1.0</td>\n",
              "      <td>1</td>\n",
              "      <td>1</td>\n",
              "      <td>2</td>\n",
              "      <td>1</td>\n",
              "      <td>5</td>\n",
              "      <td>2</td>\n",
              "      <td>1</td>\n",
              "      <td>3</td>\n",
              "      <td>5</td>\n",
              "      <td>1</td>\n",
              "      <td>1210</td>\n",
              "      <td>86</td>\n",
              "      <td>5</td>\n",
              "    </tr>\n",
              "    <tr>\n",
              "      <th>14998</th>\n",
              "      <td>14999</td>\n",
              "      <td>Yolo</td>\n",
              "      <td>IT</td>\n",
              "      <td>Colombia</td>\n",
              "      <td>Level 2-4</td>\n",
              "      <td>NaN</td>\n",
              "      <td>1</td>\n",
              "      <td>NaN</td>\n",
              "      <td>3</td>\n",
              "      <td>6</td>\n",
              "      <td>6</td>\n",
              "      <td>1.0</td>\n",
              "      <td>NaN</td>\n",
              "      <td>NaN</td>\n",
              "      <td>NaN</td>\n",
              "      <td>NaN</td>\n",
              "      <td>NaN</td>\n",
              "      <td>5</td>\n",
              "      <td>5</td>\n",
              "      <td>4</td>\n",
              "      <td>5</td>\n",
              "      <td>4</td>\n",
              "      <td>1</td>\n",
              "      <td>2</td>\n",
              "      <td>3</td>\n",
              "      <td>2</td>\n",
              "      <td>1</td>\n",
              "      <td>1.0</td>\n",
              "      <td>2</td>\n",
              "      <td>155</td>\n",
              "      <td>5</td>\n",
              "      <td>0</td>\n",
              "      <td>1</td>\n",
              "      <td>NaN</td>\n",
              "      <td>0</td>\n",
              "      <td>sales</td>\n",
              "      <td>low</td>\n",
              "      <td>F</td>\n",
              "      <td>6</td>\n",
              "      <td>5</td>\n",
              "      <td>2</td>\n",
              "      <td>4</td>\n",
              "      <td>1</td>\n",
              "      <td>2</td>\n",
              "      <td>2</td>\n",
              "      <td>2</td>\n",
              "      <td>1</td>\n",
              "      <td>0.0</td>\n",
              "      <td>NaN</td>\n",
              "      <td>1</td>\n",
              "      <td>3</td>\n",
              "      <td>1</td>\n",
              "      <td>1</td>\n",
              "      <td>5</td>\n",
              "      <td>2</td>\n",
              "      <td>1</td>\n",
              "      <td>5</td>\n",
              "      <td>3</td>\n",
              "      <td>1</td>\n",
              "      <td>1639</td>\n",
              "      <td>86</td>\n",
              "      <td>4</td>\n",
              "    </tr>\n",
              "  </tbody>\n",
              "</table>\n",
              "</div>"
            ],
            "text/plain": [
              "          ID  ... Sensor_Proximity(1-highest/10-lowest)\n",
              "14994  14995  ...                                     9\n",
              "14995  14996  ...                                     4\n",
              "14996  14997  ...                                     2\n",
              "14997  14998  ...                                     5\n",
              "14998  14999  ...                                     4\n",
              "\n",
              "[5 rows x 62 columns]"
            ]
          },
          "metadata": {
            "tags": []
          },
          "execution_count": 5
        }
      ]
    },
    {
      "cell_type": "markdown",
      "metadata": {
        "id": "8Ie2AKUy0_U-"
      },
      "source": [
        "AO QUE PARECE, EXISTEM CAMPOS SEM MUITA RELAÇÃO COM QUESTÕES EMPRESARIAIS OU QUE NÃO ACRESCENTARIAM MUITO À ANÁLISE DOS DADOS. O MELHOR A SE FAZER É DELETÁ-LOS DO DATASET"
      ]
    },
    {
      "cell_type": "code",
      "metadata": {
        "id": "vAd8wGvyyeco",
        "colab": {
          "base_uri": "https://localhost:8080/",
          "height": 296
        },
        "outputId": "9cf89d62-3d4d-47af-c472-332982f060b0"
      },
      "source": [
        "hr_dataset = dataset_original.drop(['Sensor_StepCount', 'Sensor_Heartbeat(Average/Min)', 'Sensor_Proximity(1-highest/10-lowest)', 'ID', 'Name'], axis=1)\n",
        "hr_dataset.head()"
      ],
      "execution_count": null,
      "outputs": [
        {
          "output_type": "execute_result",
          "data": {
            "text/html": [
              "<div>\n",
              "<style scoped>\n",
              "    .dataframe tbody tr th:only-of-type {\n",
              "        vertical-align: middle;\n",
              "    }\n",
              "\n",
              "    .dataframe tbody tr th {\n",
              "        vertical-align: top;\n",
              "    }\n",
              "\n",
              "    .dataframe thead th {\n",
              "        text-align: right;\n",
              "    }\n",
              "</style>\n",
              "<table border=\"1\" class=\"dataframe\">\n",
              "  <thead>\n",
              "    <tr style=\"text-align: right;\">\n",
              "      <th></th>\n",
              "      <th>Department</th>\n",
              "      <th>GEO</th>\n",
              "      <th>Role</th>\n",
              "      <th>Rising_Star</th>\n",
              "      <th>Will_Relocate</th>\n",
              "      <th>Critical</th>\n",
              "      <th>Trending Perf</th>\n",
              "      <th>Talent_Level</th>\n",
              "      <th>Validated_Talent_Level</th>\n",
              "      <th>Percent_Remote</th>\n",
              "      <th>EMP_Sat_OnPrem_1</th>\n",
              "      <th>EMP_Sat_OnPrem_2</th>\n",
              "      <th>EMP_Sat_OnPrem_3</th>\n",
              "      <th>EMP_Sat_OnPrem_4</th>\n",
              "      <th>EMP_Sat_OnPrem_5</th>\n",
              "      <th>EMP_Sat_Remote_1</th>\n",
              "      <th>EMP_Sat_Remote_2</th>\n",
              "      <th>EMP_Sat_Remote_3</th>\n",
              "      <th>EMP_Sat_Remote_4</th>\n",
              "      <th>EMP_Sat_Remote_5</th>\n",
              "      <th>EMP_Engagement_1</th>\n",
              "      <th>EMP_Engagement_2</th>\n",
              "      <th>EMP_Engagement_3</th>\n",
              "      <th>EMP_Engagement_4</th>\n",
              "      <th>EMP_Engagement_5</th>\n",
              "      <th>last_evaluation</th>\n",
              "      <th>number_project</th>\n",
              "      <th>average_montly_hours</th>\n",
              "      <th>time_spend_company</th>\n",
              "      <th>Work_accident</th>\n",
              "      <th>left_Company</th>\n",
              "      <th>CSR Factor</th>\n",
              "      <th>promotion_last_5years</th>\n",
              "      <th>sales</th>\n",
              "      <th>salary</th>\n",
              "      <th>Gender</th>\n",
              "      <th>LinkedIn_Hits</th>\n",
              "      <th>Emp_Work_Status2</th>\n",
              "      <th>Emp_Work_Status_3</th>\n",
              "      <th>Emp_Work_Status_4</th>\n",
              "      <th>Emp_Work_Status_5</th>\n",
              "      <th>Emp_Identity</th>\n",
              "      <th>Emp_Role</th>\n",
              "      <th>Emp_Position</th>\n",
              "      <th>Emp_Title</th>\n",
              "      <th>Women_Leave</th>\n",
              "      <th>Men_Leave</th>\n",
              "      <th>Emp_Competitive_1</th>\n",
              "      <th>Emp_Competitive_2</th>\n",
              "      <th>Emp_Competitive_3</th>\n",
              "      <th>Emp_Competitive_4</th>\n",
              "      <th>Emp_Competitive_5</th>\n",
              "      <th>Emp_Collaborative_1</th>\n",
              "      <th>Emp_Collaborative_2</th>\n",
              "      <th>Emp_Collaborative_3</th>\n",
              "      <th>Emp_Collaborative_4</th>\n",
              "      <th>Emp_Collaborative_5</th>\n",
              "    </tr>\n",
              "  </thead>\n",
              "  <tbody>\n",
              "    <tr>\n",
              "      <th>0</th>\n",
              "      <td>Operations</td>\n",
              "      <td>US</td>\n",
              "      <td>VP</td>\n",
              "      <td>NaN</td>\n",
              "      <td>0</td>\n",
              "      <td>1.0</td>\n",
              "      <td>3</td>\n",
              "      <td>6</td>\n",
              "      <td>6</td>\n",
              "      <td>0.4</td>\n",
              "      <td>3.0</td>\n",
              "      <td>3.0</td>\n",
              "      <td>4.0</td>\n",
              "      <td>3.0</td>\n",
              "      <td>5.0</td>\n",
              "      <td>2</td>\n",
              "      <td>3</td>\n",
              "      <td>2</td>\n",
              "      <td>3</td>\n",
              "      <td>2</td>\n",
              "      <td>5</td>\n",
              "      <td>5</td>\n",
              "      <td>4</td>\n",
              "      <td>4</td>\n",
              "      <td>3</td>\n",
              "      <td>0.36</td>\n",
              "      <td>3</td>\n",
              "      <td>168</td>\n",
              "      <td>3</td>\n",
              "      <td>1</td>\n",
              "      <td>0</td>\n",
              "      <td>NaN</td>\n",
              "      <td>0</td>\n",
              "      <td>sales</td>\n",
              "      <td>low</td>\n",
              "      <td>M</td>\n",
              "      <td>5</td>\n",
              "      <td>4</td>\n",
              "      <td>3</td>\n",
              "      <td>1</td>\n",
              "      <td>1</td>\n",
              "      <td>1</td>\n",
              "      <td>1</td>\n",
              "      <td>2</td>\n",
              "      <td>1</td>\n",
              "      <td>NaN</td>\n",
              "      <td>1.0</td>\n",
              "      <td>2</td>\n",
              "      <td>4</td>\n",
              "      <td>2</td>\n",
              "      <td>2</td>\n",
              "      <td>2</td>\n",
              "      <td>2</td>\n",
              "      <td>2</td>\n",
              "      <td>2</td>\n",
              "      <td>1</td>\n",
              "      <td>5</td>\n",
              "    </tr>\n",
              "    <tr>\n",
              "      <th>1</th>\n",
              "      <td>Sales</td>\n",
              "      <td>UK</td>\n",
              "      <td>Senior Director</td>\n",
              "      <td>NaN</td>\n",
              "      <td>0</td>\n",
              "      <td>NaN</td>\n",
              "      <td>3</td>\n",
              "      <td>6</td>\n",
              "      <td>6</td>\n",
              "      <td>0.4</td>\n",
              "      <td>3.0</td>\n",
              "      <td>3.0</td>\n",
              "      <td>4.0</td>\n",
              "      <td>3.0</td>\n",
              "      <td>5.0</td>\n",
              "      <td>2</td>\n",
              "      <td>3</td>\n",
              "      <td>2</td>\n",
              "      <td>3</td>\n",
              "      <td>2</td>\n",
              "      <td>5</td>\n",
              "      <td>5</td>\n",
              "      <td>4</td>\n",
              "      <td>4</td>\n",
              "      <td>3</td>\n",
              "      <td>0.36</td>\n",
              "      <td>5</td>\n",
              "      <td>159</td>\n",
              "      <td>2</td>\n",
              "      <td>0</td>\n",
              "      <td>0</td>\n",
              "      <td>NaN</td>\n",
              "      <td>0</td>\n",
              "      <td>accounting</td>\n",
              "      <td>low</td>\n",
              "      <td>F</td>\n",
              "      <td>58</td>\n",
              "      <td>3</td>\n",
              "      <td>3</td>\n",
              "      <td>4</td>\n",
              "      <td>3</td>\n",
              "      <td>2</td>\n",
              "      <td>1</td>\n",
              "      <td>2</td>\n",
              "      <td>1</td>\n",
              "      <td>0.0</td>\n",
              "      <td>NaN</td>\n",
              "      <td>2</td>\n",
              "      <td>2</td>\n",
              "      <td>1</td>\n",
              "      <td>4</td>\n",
              "      <td>1</td>\n",
              "      <td>3</td>\n",
              "      <td>2</td>\n",
              "      <td>5</td>\n",
              "      <td>1</td>\n",
              "      <td>5</td>\n",
              "    </tr>\n",
              "    <tr>\n",
              "      <th>2</th>\n",
              "      <td>Finance</td>\n",
              "      <td>France</td>\n",
              "      <td>Senior Director</td>\n",
              "      <td>NaN</td>\n",
              "      <td>0</td>\n",
              "      <td>NaN</td>\n",
              "      <td>3</td>\n",
              "      <td>6</td>\n",
              "      <td>6</td>\n",
              "      <td>0.4</td>\n",
              "      <td>3.0</td>\n",
              "      <td>3.0</td>\n",
              "      <td>4.0</td>\n",
              "      <td>3.0</td>\n",
              "      <td>5.0</td>\n",
              "      <td>2</td>\n",
              "      <td>3</td>\n",
              "      <td>2</td>\n",
              "      <td>3</td>\n",
              "      <td>2</td>\n",
              "      <td>5</td>\n",
              "      <td>5</td>\n",
              "      <td>4</td>\n",
              "      <td>4</td>\n",
              "      <td>3</td>\n",
              "      <td>0.36</td>\n",
              "      <td>2</td>\n",
              "      <td>282</td>\n",
              "      <td>3</td>\n",
              "      <td>0</td>\n",
              "      <td>0</td>\n",
              "      <td>NaN</td>\n",
              "      <td>0</td>\n",
              "      <td>product_mng</td>\n",
              "      <td>medium</td>\n",
              "      <td>F</td>\n",
              "      <td>42</td>\n",
              "      <td>2</td>\n",
              "      <td>4</td>\n",
              "      <td>1</td>\n",
              "      <td>3</td>\n",
              "      <td>1</td>\n",
              "      <td>1</td>\n",
              "      <td>2</td>\n",
              "      <td>2</td>\n",
              "      <td>1.0</td>\n",
              "      <td>NaN</td>\n",
              "      <td>1</td>\n",
              "      <td>5</td>\n",
              "      <td>1</td>\n",
              "      <td>2</td>\n",
              "      <td>5</td>\n",
              "      <td>2</td>\n",
              "      <td>2</td>\n",
              "      <td>4</td>\n",
              "      <td>4</td>\n",
              "      <td>4</td>\n",
              "    </tr>\n",
              "    <tr>\n",
              "      <th>3</th>\n",
              "      <td>Human Resources</td>\n",
              "      <td>China</td>\n",
              "      <td>Senior Director</td>\n",
              "      <td>NaN</td>\n",
              "      <td>0</td>\n",
              "      <td>NaN</td>\n",
              "      <td>3</td>\n",
              "      <td>6</td>\n",
              "      <td>6</td>\n",
              "      <td>0.4</td>\n",
              "      <td>3.0</td>\n",
              "      <td>3.0</td>\n",
              "      <td>4.0</td>\n",
              "      <td>3.0</td>\n",
              "      <td>5.0</td>\n",
              "      <td>2</td>\n",
              "      <td>3</td>\n",
              "      <td>2</td>\n",
              "      <td>3</td>\n",
              "      <td>2</td>\n",
              "      <td>5</td>\n",
              "      <td>5</td>\n",
              "      <td>4</td>\n",
              "      <td>4</td>\n",
              "      <td>3</td>\n",
              "      <td>0.36</td>\n",
              "      <td>4</td>\n",
              "      <td>278</td>\n",
              "      <td>4</td>\n",
              "      <td>1</td>\n",
              "      <td>0</td>\n",
              "      <td>NaN</td>\n",
              "      <td>0</td>\n",
              "      <td>product_mng</td>\n",
              "      <td>high</td>\n",
              "      <td>M</td>\n",
              "      <td>37</td>\n",
              "      <td>3</td>\n",
              "      <td>1</td>\n",
              "      <td>4</td>\n",
              "      <td>5</td>\n",
              "      <td>2</td>\n",
              "      <td>1</td>\n",
              "      <td>2</td>\n",
              "      <td>1</td>\n",
              "      <td>NaN</td>\n",
              "      <td>1.0</td>\n",
              "      <td>1</td>\n",
              "      <td>1</td>\n",
              "      <td>2</td>\n",
              "      <td>5</td>\n",
              "      <td>1</td>\n",
              "      <td>1</td>\n",
              "      <td>2</td>\n",
              "      <td>4</td>\n",
              "      <td>4</td>\n",
              "      <td>1</td>\n",
              "    </tr>\n",
              "    <tr>\n",
              "      <th>4</th>\n",
              "      <td>IT</td>\n",
              "      <td>Korea</td>\n",
              "      <td>Director</td>\n",
              "      <td>NaN</td>\n",
              "      <td>0</td>\n",
              "      <td>NaN</td>\n",
              "      <td>3</td>\n",
              "      <td>6</td>\n",
              "      <td>6</td>\n",
              "      <td>0.4</td>\n",
              "      <td>3.0</td>\n",
              "      <td>3.0</td>\n",
              "      <td>4.0</td>\n",
              "      <td>3.0</td>\n",
              "      <td>5.0</td>\n",
              "      <td>2</td>\n",
              "      <td>3</td>\n",
              "      <td>2</td>\n",
              "      <td>3</td>\n",
              "      <td>2</td>\n",
              "      <td>5</td>\n",
              "      <td>5</td>\n",
              "      <td>4</td>\n",
              "      <td>4</td>\n",
              "      <td>3</td>\n",
              "      <td>0.36</td>\n",
              "      <td>6</td>\n",
              "      <td>256</td>\n",
              "      <td>5</td>\n",
              "      <td>0</td>\n",
              "      <td>0</td>\n",
              "      <td>NaN</td>\n",
              "      <td>0</td>\n",
              "      <td>sales</td>\n",
              "      <td>low</td>\n",
              "      <td>F</td>\n",
              "      <td>6</td>\n",
              "      <td>4</td>\n",
              "      <td>5</td>\n",
              "      <td>4</td>\n",
              "      <td>5</td>\n",
              "      <td>1</td>\n",
              "      <td>1</td>\n",
              "      <td>2</td>\n",
              "      <td>1</td>\n",
              "      <td>1.0</td>\n",
              "      <td>NaN</td>\n",
              "      <td>1</td>\n",
              "      <td>4</td>\n",
              "      <td>1</td>\n",
              "      <td>5</td>\n",
              "      <td>3</td>\n",
              "      <td>5</td>\n",
              "      <td>1</td>\n",
              "      <td>2</td>\n",
              "      <td>5</td>\n",
              "      <td>4</td>\n",
              "    </tr>\n",
              "  </tbody>\n",
              "</table>\n",
              "</div>"
            ],
            "text/plain": [
              "        Department     GEO  ... Emp_Collaborative_4  Emp_Collaborative_5\n",
              "0       Operations      US  ...                   1                    5\n",
              "1            Sales      UK  ...                   1                    5\n",
              "2          Finance  France  ...                   4                    4\n",
              "3  Human Resources   China  ...                   4                    1\n",
              "4               IT   Korea  ...                   5                    4\n",
              "\n",
              "[5 rows x 57 columns]"
            ]
          },
          "metadata": {
            "tags": []
          },
          "execution_count": 6
        }
      ]
    },
    {
      "cell_type": "markdown",
      "metadata": {
        "id": "cil4lIr93LZa"
      },
      "source": [
        "VERIFICANDO QUAIS CAMPOS POSSUEM MUITOS DADOS AUSENTES UTILIZANDO O MAPA DE CALOR DO SEABORN"
      ]
    },
    {
      "cell_type": "code",
      "metadata": {
        "id": "fD8pFkPL3CmW",
        "colab": {
          "base_uri": "https://localhost:8080/",
          "height": 511
        },
        "outputId": "ca51ef70-d463-46b8-b2d0-739bf18d5daa"
      },
      "source": [
        "plt.figure(figsize=(18, 7))\n",
        "sns.heatmap(hr_dataset.isnull(),yticklabels=False,cbar=False,cmap='viridis')"
      ],
      "execution_count": null,
      "outputs": [
        {
          "output_type": "execute_result",
          "data": {
            "text/plain": [
              "<matplotlib.axes._subplots.AxesSubplot at 0x7f79783c6898>"
            ]
          },
          "metadata": {
            "tags": []
          },
          "execution_count": 7
        },
        {
          "output_type": "display_data",
          "data": {
            "image/png": "[encoded data removed]",
            "text/plain": [
              "<Figure size 1296x504 with 1 Axes>"
            ]
          },
          "metadata": {
            "tags": [],
            "needs_background": "light"
          }
        }
      ]
    },
    {
      "cell_type": "markdown",
      "metadata": {
        "id": "oczllLAB-GZb"
      },
      "source": [
        "É POSSÍVEL VER QUE ALGUMAS COLUNAS POSSUEM MUITOS DADOS NULOS PARA OS SUBSITUIR DE QUALQUER QUE SEJA A FORMA, O MELHOR É APAGAR ALGUMAS DESSAS COLUNAS, COMO AS COLUNAS:\n",
        "Rising_Star, Critical, CSR_Factor"
      ]
    },
    {
      "cell_type": "code",
      "metadata": {
        "id": "gBwsPYNi-l0w"
      },
      "source": [
        "hr_dataset.drop(['Rising_Star', 'Critical', 'CSR Factor'], axis=1, inplace=True)"
      ],
      "execution_count": null,
      "outputs": []
    },
    {
      "cell_type": "markdown",
      "metadata": {
        "id": "IwsPK6cjDI1K"
      },
      "source": [
        "PREENCHENDO VALORES NULOS NAS COLUNAS EMP_Sat_OnPrem COM OS VALORES MAIS COMUMENTE USADOS"
      ]
    },
    {
      "cell_type": "code",
      "metadata": {
        "id": "YTC1n4I5DM9e",
        "colab": {
          "base_uri": "https://localhost:8080/",
          "height": 330
        },
        "outputId": "b722a9cc-5ba8-4c44-cfb9-c7240a921b84"
      },
      "source": [
        "print(hr_dataset['EMP_Sat_OnPrem_1'].value_counts().head(2))\n",
        "print()\n",
        "print(hr_dataset['EMP_Sat_OnPrem_2'].value_counts().head(2))\n",
        "print()\n",
        "print(hr_dataset['EMP_Sat_OnPrem_3'].value_counts().head(2))\n",
        "print()\n",
        "print(hr_dataset['EMP_Sat_OnPrem_4'].value_counts().head(2))\n",
        "print()\n",
        "print(hr_dataset['EMP_Sat_OnPrem_5'].value_counts().head(2))"
      ],
      "execution_count": null,
      "outputs": [
        {
          "output_type": "stream",
          "text": [
            "3.0    14871\n",
            "Name: EMP_Sat_OnPrem_1, dtype: int64\n",
            "\n",
            "3.0    12878\n",
            "1.0     1993\n",
            "Name: EMP_Sat_OnPrem_2, dtype: int64\n",
            "\n",
            "4.0    12878\n",
            "2.0     1993\n",
            "Name: EMP_Sat_OnPrem_3, dtype: int64\n",
            "\n",
            "3.0    12878\n",
            "1.0     1993\n",
            "Name: EMP_Sat_OnPrem_4, dtype: int64\n",
            "\n",
            "4.0    7737\n",
            "5.0    5141\n",
            "Name: EMP_Sat_OnPrem_5, dtype: int64\n"
          ],
          "name": "stdout"
        }
      ]
    },
    {
      "cell_type": "code",
      "metadata": {
        "id": "XacLcCFULBNh",
        "colab": {
          "base_uri": "https://localhost:8080/",
          "height": 330
        },
        "outputId": "9b38d32c-890a-4c05-bee4-d4b7356cf59f"
      },
      "source": [
        "values = {'EMP_Sat_OnPrem_1': 3.0, 'EMP_Sat_OnPrem_2': 3.0, 'EMP_Sat_OnPrem_3': 4.0, 'EMP_Sat_OnPrem_4': 3.0, 'EMP_Sat_OnPrem_5': 4.0}\n",
        "\n",
        "hr_dataset.fillna(value=values, inplace=True)\n",
        "hr_dataset.tail() #valores nulos dessas colunas foram preenchidos"
      ],
      "execution_count": null,
      "outputs": [
        {
          "output_type": "execute_result",
          "data": {
            "text/html": [
              "<div>\n",
              "<style scoped>\n",
              "    .dataframe tbody tr th:only-of-type {\n",
              "        vertical-align: middle;\n",
              "    }\n",
              "\n",
              "    .dataframe tbody tr th {\n",
              "        vertical-align: top;\n",
              "    }\n",
              "\n",
              "    .dataframe thead th {\n",
              "        text-align: right;\n",
              "    }\n",
              "</style>\n",
              "<table border=\"1\" class=\"dataframe\">\n",
              "  <thead>\n",
              "    <tr style=\"text-align: right;\">\n",
              "      <th></th>\n",
              "      <th>Department</th>\n",
              "      <th>GEO</th>\n",
              "      <th>Role</th>\n",
              "      <th>Will_Relocate</th>\n",
              "      <th>Trending Perf</th>\n",
              "      <th>Talent_Level</th>\n",
              "      <th>Validated_Talent_Level</th>\n",
              "      <th>Percent_Remote</th>\n",
              "      <th>EMP_Sat_OnPrem_1</th>\n",
              "      <th>EMP_Sat_OnPrem_2</th>\n",
              "      <th>EMP_Sat_OnPrem_3</th>\n",
              "      <th>EMP_Sat_OnPrem_4</th>\n",
              "      <th>EMP_Sat_OnPrem_5</th>\n",
              "      <th>EMP_Sat_Remote_1</th>\n",
              "      <th>EMP_Sat_Remote_2</th>\n",
              "      <th>EMP_Sat_Remote_3</th>\n",
              "      <th>EMP_Sat_Remote_4</th>\n",
              "      <th>EMP_Sat_Remote_5</th>\n",
              "      <th>EMP_Engagement_1</th>\n",
              "      <th>EMP_Engagement_2</th>\n",
              "      <th>EMP_Engagement_3</th>\n",
              "      <th>EMP_Engagement_4</th>\n",
              "      <th>EMP_Engagement_5</th>\n",
              "      <th>last_evaluation</th>\n",
              "      <th>number_project</th>\n",
              "      <th>average_montly_hours</th>\n",
              "      <th>time_spend_company</th>\n",
              "      <th>Work_accident</th>\n",
              "      <th>left_Company</th>\n",
              "      <th>promotion_last_5years</th>\n",
              "      <th>sales</th>\n",
              "      <th>salary</th>\n",
              "      <th>Gender</th>\n",
              "      <th>LinkedIn_Hits</th>\n",
              "      <th>Emp_Work_Status2</th>\n",
              "      <th>Emp_Work_Status_3</th>\n",
              "      <th>Emp_Work_Status_4</th>\n",
              "      <th>Emp_Work_Status_5</th>\n",
              "      <th>Emp_Identity</th>\n",
              "      <th>Emp_Role</th>\n",
              "      <th>Emp_Position</th>\n",
              "      <th>Emp_Title</th>\n",
              "      <th>Women_Leave</th>\n",
              "      <th>Men_Leave</th>\n",
              "      <th>Emp_Competitive_1</th>\n",
              "      <th>Emp_Competitive_2</th>\n",
              "      <th>Emp_Competitive_3</th>\n",
              "      <th>Emp_Competitive_4</th>\n",
              "      <th>Emp_Competitive_5</th>\n",
              "      <th>Emp_Collaborative_1</th>\n",
              "      <th>Emp_Collaborative_2</th>\n",
              "      <th>Emp_Collaborative_3</th>\n",
              "      <th>Emp_Collaborative_4</th>\n",
              "      <th>Emp_Collaborative_5</th>\n",
              "    </tr>\n",
              "  </thead>\n",
              "  <tbody>\n",
              "    <tr>\n",
              "      <th>14994</th>\n",
              "      <td>Operations</td>\n",
              "      <td>Korea</td>\n",
              "      <td>Level 2-4</td>\n",
              "      <td>1</td>\n",
              "      <td>3</td>\n",
              "      <td>6</td>\n",
              "      <td>6</td>\n",
              "      <td>1.0</td>\n",
              "      <td>3.0</td>\n",
              "      <td>3.0</td>\n",
              "      <td>4.0</td>\n",
              "      <td>3.0</td>\n",
              "      <td>4.0</td>\n",
              "      <td>5</td>\n",
              "      <td>5</td>\n",
              "      <td>4</td>\n",
              "      <td>5</td>\n",
              "      <td>4</td>\n",
              "      <td>1</td>\n",
              "      <td>2</td>\n",
              "      <td>3</td>\n",
              "      <td>2</td>\n",
              "      <td>1</td>\n",
              "      <td>1.0</td>\n",
              "      <td>4</td>\n",
              "      <td>252</td>\n",
              "      <td>5</td>\n",
              "      <td>0</td>\n",
              "      <td>1</td>\n",
              "      <td>0</td>\n",
              "      <td>technical</td>\n",
              "      <td>medium</td>\n",
              "      <td>F</td>\n",
              "      <td>1</td>\n",
              "      <td>1</td>\n",
              "      <td>2</td>\n",
              "      <td>2</td>\n",
              "      <td>2</td>\n",
              "      <td>2</td>\n",
              "      <td>1</td>\n",
              "      <td>2</td>\n",
              "      <td>1</td>\n",
              "      <td>1.0</td>\n",
              "      <td>NaN</td>\n",
              "      <td>1</td>\n",
              "      <td>1</td>\n",
              "      <td>2</td>\n",
              "      <td>3</td>\n",
              "      <td>2</td>\n",
              "      <td>4</td>\n",
              "      <td>2</td>\n",
              "      <td>2</td>\n",
              "      <td>3</td>\n",
              "      <td>1</td>\n",
              "    </tr>\n",
              "    <tr>\n",
              "      <th>14995</th>\n",
              "      <td>Sales</td>\n",
              "      <td>Australia</td>\n",
              "      <td>Level 2-4</td>\n",
              "      <td>1</td>\n",
              "      <td>3</td>\n",
              "      <td>6</td>\n",
              "      <td>6</td>\n",
              "      <td>1.0</td>\n",
              "      <td>3.0</td>\n",
              "      <td>3.0</td>\n",
              "      <td>4.0</td>\n",
              "      <td>3.0</td>\n",
              "      <td>4.0</td>\n",
              "      <td>5</td>\n",
              "      <td>5</td>\n",
              "      <td>4</td>\n",
              "      <td>5</td>\n",
              "      <td>4</td>\n",
              "      <td>1</td>\n",
              "      <td>2</td>\n",
              "      <td>3</td>\n",
              "      <td>2</td>\n",
              "      <td>1</td>\n",
              "      <td>1.0</td>\n",
              "      <td>4</td>\n",
              "      <td>232</td>\n",
              "      <td>5</td>\n",
              "      <td>0</td>\n",
              "      <td>1</td>\n",
              "      <td>0</td>\n",
              "      <td>technical</td>\n",
              "      <td>medium</td>\n",
              "      <td>F</td>\n",
              "      <td>6</td>\n",
              "      <td>1</td>\n",
              "      <td>1</td>\n",
              "      <td>2</td>\n",
              "      <td>4</td>\n",
              "      <td>1</td>\n",
              "      <td>2</td>\n",
              "      <td>2</td>\n",
              "      <td>1</td>\n",
              "      <td>1.0</td>\n",
              "      <td>NaN</td>\n",
              "      <td>1</td>\n",
              "      <td>5</td>\n",
              "      <td>1</td>\n",
              "      <td>4</td>\n",
              "      <td>4</td>\n",
              "      <td>3</td>\n",
              "      <td>1</td>\n",
              "      <td>4</td>\n",
              "      <td>5</td>\n",
              "      <td>5</td>\n",
              "    </tr>\n",
              "    <tr>\n",
              "      <th>14996</th>\n",
              "      <td>Finance</td>\n",
              "      <td>China</td>\n",
              "      <td>Level 2-4</td>\n",
              "      <td>0</td>\n",
              "      <td>3</td>\n",
              "      <td>6</td>\n",
              "      <td>6</td>\n",
              "      <td>1.0</td>\n",
              "      <td>3.0</td>\n",
              "      <td>3.0</td>\n",
              "      <td>4.0</td>\n",
              "      <td>3.0</td>\n",
              "      <td>4.0</td>\n",
              "      <td>5</td>\n",
              "      <td>5</td>\n",
              "      <td>4</td>\n",
              "      <td>5</td>\n",
              "      <td>4</td>\n",
              "      <td>1</td>\n",
              "      <td>2</td>\n",
              "      <td>3</td>\n",
              "      <td>2</td>\n",
              "      <td>1</td>\n",
              "      <td>1.0</td>\n",
              "      <td>5</td>\n",
              "      <td>242</td>\n",
              "      <td>5</td>\n",
              "      <td>0</td>\n",
              "      <td>1</td>\n",
              "      <td>0</td>\n",
              "      <td>sales</td>\n",
              "      <td>low</td>\n",
              "      <td>F</td>\n",
              "      <td>4</td>\n",
              "      <td>4</td>\n",
              "      <td>3</td>\n",
              "      <td>1</td>\n",
              "      <td>5</td>\n",
              "      <td>1</td>\n",
              "      <td>1</td>\n",
              "      <td>2</td>\n",
              "      <td>1</td>\n",
              "      <td>1.0</td>\n",
              "      <td>NaN</td>\n",
              "      <td>2</td>\n",
              "      <td>2</td>\n",
              "      <td>1</td>\n",
              "      <td>2</td>\n",
              "      <td>4</td>\n",
              "      <td>4</td>\n",
              "      <td>2</td>\n",
              "      <td>3</td>\n",
              "      <td>4</td>\n",
              "      <td>5</td>\n",
              "    </tr>\n",
              "    <tr>\n",
              "      <th>14997</th>\n",
              "      <td>Human Resources</td>\n",
              "      <td>US</td>\n",
              "      <td>Level 2-4</td>\n",
              "      <td>0</td>\n",
              "      <td>3</td>\n",
              "      <td>6</td>\n",
              "      <td>6</td>\n",
              "      <td>1.0</td>\n",
              "      <td>3.0</td>\n",
              "      <td>3.0</td>\n",
              "      <td>4.0</td>\n",
              "      <td>3.0</td>\n",
              "      <td>4.0</td>\n",
              "      <td>5</td>\n",
              "      <td>5</td>\n",
              "      <td>4</td>\n",
              "      <td>5</td>\n",
              "      <td>4</td>\n",
              "      <td>1</td>\n",
              "      <td>2</td>\n",
              "      <td>3</td>\n",
              "      <td>2</td>\n",
              "      <td>1</td>\n",
              "      <td>1.0</td>\n",
              "      <td>5</td>\n",
              "      <td>223</td>\n",
              "      <td>6</td>\n",
              "      <td>0</td>\n",
              "      <td>1</td>\n",
              "      <td>0</td>\n",
              "      <td>accounting</td>\n",
              "      <td>medium</td>\n",
              "      <td>M</td>\n",
              "      <td>2</td>\n",
              "      <td>2</td>\n",
              "      <td>2</td>\n",
              "      <td>3</td>\n",
              "      <td>2</td>\n",
              "      <td>1</td>\n",
              "      <td>2</td>\n",
              "      <td>1</td>\n",
              "      <td>1</td>\n",
              "      <td>NaN</td>\n",
              "      <td>1.0</td>\n",
              "      <td>1</td>\n",
              "      <td>1</td>\n",
              "      <td>2</td>\n",
              "      <td>1</td>\n",
              "      <td>5</td>\n",
              "      <td>2</td>\n",
              "      <td>1</td>\n",
              "      <td>3</td>\n",
              "      <td>5</td>\n",
              "      <td>1</td>\n",
              "    </tr>\n",
              "    <tr>\n",
              "      <th>14998</th>\n",
              "      <td>IT</td>\n",
              "      <td>Colombia</td>\n",
              "      <td>Level 2-4</td>\n",
              "      <td>1</td>\n",
              "      <td>3</td>\n",
              "      <td>6</td>\n",
              "      <td>6</td>\n",
              "      <td>1.0</td>\n",
              "      <td>3.0</td>\n",
              "      <td>3.0</td>\n",
              "      <td>4.0</td>\n",
              "      <td>3.0</td>\n",
              "      <td>4.0</td>\n",
              "      <td>5</td>\n",
              "      <td>5</td>\n",
              "      <td>4</td>\n",
              "      <td>5</td>\n",
              "      <td>4</td>\n",
              "      <td>1</td>\n",
              "      <td>2</td>\n",
              "      <td>3</td>\n",
              "      <td>2</td>\n",
              "      <td>1</td>\n",
              "      <td>1.0</td>\n",
              "      <td>2</td>\n",
              "      <td>155</td>\n",
              "      <td>5</td>\n",
              "      <td>0</td>\n",
              "      <td>1</td>\n",
              "      <td>0</td>\n",
              "      <td>sales</td>\n",
              "      <td>low</td>\n",
              "      <td>F</td>\n",
              "      <td>6</td>\n",
              "      <td>5</td>\n",
              "      <td>2</td>\n",
              "      <td>4</td>\n",
              "      <td>1</td>\n",
              "      <td>2</td>\n",
              "      <td>2</td>\n",
              "      <td>2</td>\n",
              "      <td>1</td>\n",
              "      <td>0.0</td>\n",
              "      <td>NaN</td>\n",
              "      <td>1</td>\n",
              "      <td>3</td>\n",
              "      <td>1</td>\n",
              "      <td>1</td>\n",
              "      <td>5</td>\n",
              "      <td>2</td>\n",
              "      <td>1</td>\n",
              "      <td>5</td>\n",
              "      <td>3</td>\n",
              "      <td>1</td>\n",
              "    </tr>\n",
              "  </tbody>\n",
              "</table>\n",
              "</div>"
            ],
            "text/plain": [
              "            Department        GEO  ... Emp_Collaborative_4  Emp_Collaborative_5\n",
              "14994       Operations      Korea  ...                   3                    1\n",
              "14995            Sales  Australia  ...                   5                    5\n",
              "14996          Finance      China  ...                   4                    5\n",
              "14997  Human Resources         US  ...                   5                    1\n",
              "14998               IT   Colombia  ...                   3                    1\n",
              "\n",
              "[5 rows x 54 columns]"
            ]
          },
          "metadata": {
            "tags": []
          },
          "execution_count": 10
        }
      ]
    },
    {
      "cell_type": "markdown",
      "metadata": {
        "id": "V0L-LVBpQ-Q_"
      },
      "source": [
        "PREENCHENDO OS VALORES NULOS NAS COLUNAS Women_Leave e Men_Leave AGRUPANDO PELA POSIÇÃO OU TÍTULO QUE O FUNCIONÁRIO TINHA/TEM NA COMPANHIA"
      ]
    },
    {
      "cell_type": "code",
      "metadata": {
        "id": "PDj8NjkPRlDC",
        "colab": {
          "base_uri": "https://localhost:8080/",
          "height": 355
        },
        "outputId": "7b79fde4-49ec-4f2c-b1ef-da7fd67351a8"
      },
      "source": [
        "#analisando os valores médios das colunas Women_Leave e Men_Leave agrupados pela posição na companhia\n",
        "roles = hr_dataset.groupby('Role')\n",
        "roles['Women_Leave', 'Men_Leave'].mean()"
      ],
      "execution_count": null,
      "outputs": [
        {
          "output_type": "stream",
          "text": [
            "/usr/local/lib/python3.6/dist-packages/ipykernel_launcher.py:3: FutureWarning: Indexing with multiple keys (implicitly converted to a tuple of keys) will be deprecated, use a list instead.\n",
            "  This is separate from the ipykernel package so we can avoid doing imports until\n"
          ],
          "name": "stderr"
        },
        {
          "output_type": "execute_result",
          "data": {
            "text/html": [
              "<div>\n",
              "<style scoped>\n",
              "    .dataframe tbody tr th:only-of-type {\n",
              "        vertical-align: middle;\n",
              "    }\n",
              "\n",
              "    .dataframe tbody tr th {\n",
              "        vertical-align: top;\n",
              "    }\n",
              "\n",
              "    .dataframe thead th {\n",
              "        text-align: right;\n",
              "    }\n",
              "</style>\n",
              "<table border=\"1\" class=\"dataframe\">\n",
              "  <thead>\n",
              "    <tr style=\"text-align: right;\">\n",
              "      <th></th>\n",
              "      <th>Women_Leave</th>\n",
              "      <th>Men_Leave</th>\n",
              "    </tr>\n",
              "    <tr>\n",
              "      <th>Role</th>\n",
              "      <th></th>\n",
              "      <th></th>\n",
              "    </tr>\n",
              "  </thead>\n",
              "  <tbody>\n",
              "    <tr>\n",
              "      <th>Director</th>\n",
              "      <td>0.749245</td>\n",
              "      <td>0.892857</td>\n",
              "    </tr>\n",
              "    <tr>\n",
              "      <th>Level 1</th>\n",
              "      <td>0.705213</td>\n",
              "      <td>0.911453</td>\n",
              "    </tr>\n",
              "    <tr>\n",
              "      <th>Level 2-4</th>\n",
              "      <td>0.704669</td>\n",
              "      <td>0.904741</td>\n",
              "    </tr>\n",
              "    <tr>\n",
              "      <th>Manager</th>\n",
              "      <td>0.717776</td>\n",
              "      <td>0.919949</td>\n",
              "    </tr>\n",
              "    <tr>\n",
              "      <th>Senior Director</th>\n",
              "      <td>0.680233</td>\n",
              "      <td>0.916667</td>\n",
              "    </tr>\n",
              "    <tr>\n",
              "      <th>Senior Manager</th>\n",
              "      <td>0.699856</td>\n",
              "      <td>0.905371</td>\n",
              "    </tr>\n",
              "    <tr>\n",
              "      <th>VP</th>\n",
              "      <td>0.698113</td>\n",
              "      <td>0.921053</td>\n",
              "    </tr>\n",
              "  </tbody>\n",
              "</table>\n",
              "</div>"
            ],
            "text/plain": [
              "                 Women_Leave  Men_Leave\n",
              "Role                                   \n",
              "Director            0.749245   0.892857\n",
              "Level 1             0.705213   0.911453\n",
              "Level 2-4           0.704669   0.904741\n",
              "Manager             0.717776   0.919949\n",
              "Senior Director     0.680233   0.916667\n",
              "Senior Manager      0.699856   0.905371\n",
              "VP                  0.698113   0.921053"
            ]
          },
          "metadata": {
            "tags": []
          },
          "execution_count": 11
        }
      ]
    },
    {
      "cell_type": "code",
      "metadata": {
        "id": "60QKVpzpUxCq"
      },
      "source": [
        "def preenche_leave(cols):\n",
        "    leave = cols[0]\n",
        "    Role = cols[1]\n",
        "    \n",
        "    if pd.isnull(leave): #vejo se o campo Women_Leave ou Men_Leave está nulo, se estiver, eu preencho segundo a média das pessoas de mesmo cargo\n",
        "\n",
        "        if Role == '3':\n",
        "          return 3.0\n",
        "        else:\n",
        "          return 1.0 #como podemos ver acima, todos os valores para os grupos de Roles, com exceção de Role = 3, seriam arredondados para 1\n",
        "\n",
        "    else:\n",
        "        return leave"
      ],
      "execution_count": null,
      "outputs": []
    },
    {
      "cell_type": "code",
      "metadata": {
        "id": "QeHQ5QHBUZL1"
      },
      "source": [
        "hr_dataset['Women_Leave'] = hr_dataset[['Women_Leave', 'Role']].apply(preenche_leave, axis=1)\n",
        "hr_dataset['Men_Leave'] = hr_dataset[['Men_Leave', 'Role']].apply(preenche_leave, axis=1)"
      ],
      "execution_count": null,
      "outputs": []
    },
    {
      "cell_type": "code",
      "metadata": {
        "id": "MepFXUsUYyhu",
        "colab": {
          "base_uri": "https://localhost:8080/",
          "height": 511
        },
        "outputId": "121c98fa-2f33-4676-96fa-a7f274c17907"
      },
      "source": [
        "plt.figure(figsize=(18, 7))\n",
        "sns.heatmap(hr_dataset.isnull(),yticklabels=False,cbar=False,cmap='viridis') #podemos ver que agora todos os valores nulos das colunas\n",
        "                                                                             #Women_Leave e Men_Leave foram preenchidos"
      ],
      "execution_count": null,
      "outputs": [
        {
          "output_type": "execute_result",
          "data": {
            "text/plain": [
              "<matplotlib.axes._subplots.AxesSubplot at 0x7f7975b4d208>"
            ]
          },
          "metadata": {
            "tags": []
          },
          "execution_count": 14
        },
        {
          "output_type": "display_data",
          "data": {
            "image/png": "[encoded data removed]",
            "text/plain": [
              "<Figure size 1296x504 with 1 Axes>"
            ]
          },
          "metadata": {
            "tags": [],
            "needs_background": "light"
          }
        }
      ]
    },
    {
      "cell_type": "markdown",
      "metadata": {
        "id": "7GewNdHjwEbD"
      },
      "source": [
        "Transformando a variável salary em dummy"
      ]
    },
    {
      "cell_type": "code",
      "metadata": {
        "id": "sgnVJYFtwJza",
        "colab": {
          "base_uri": "https://localhost:8080/",
          "height": 296
        },
        "outputId": "fc940d10-9c66-4a4e-a468-3b5ba2792d57"
      },
      "source": [
        "salary = pd.get_dummies(hr_dataset['salary'])\n",
        "hr_dataset.drop('salary',axis=1,inplace=True)\n",
        "hr_dataset = pd.concat([hr_dataset,salary],axis=1)\n",
        "hr_dataset.head()"
      ],
      "execution_count": null,
      "outputs": [
        {
          "output_type": "execute_result",
          "data": {
            "text/html": [
              "<div>\n",
              "<style scoped>\n",
              "    .dataframe tbody tr th:only-of-type {\n",
              "        vertical-align: middle;\n",
              "    }\n",
              "\n",
              "    .dataframe tbody tr th {\n",
              "        vertical-align: top;\n",
              "    }\n",
              "\n",
              "    .dataframe thead th {\n",
              "        text-align: right;\n",
              "    }\n",
              "</style>\n",
              "<table border=\"1\" class=\"dataframe\">\n",
              "  <thead>\n",
              "    <tr style=\"text-align: right;\">\n",
              "      <th></th>\n",
              "      <th>Department</th>\n",
              "      <th>GEO</th>\n",
              "      <th>Role</th>\n",
              "      <th>Will_Relocate</th>\n",
              "      <th>Trending Perf</th>\n",
              "      <th>Talent_Level</th>\n",
              "      <th>Validated_Talent_Level</th>\n",
              "      <th>Percent_Remote</th>\n",
              "      <th>EMP_Sat_OnPrem_1</th>\n",
              "      <th>EMP_Sat_OnPrem_2</th>\n",
              "      <th>EMP_Sat_OnPrem_3</th>\n",
              "      <th>EMP_Sat_OnPrem_4</th>\n",
              "      <th>EMP_Sat_OnPrem_5</th>\n",
              "      <th>EMP_Sat_Remote_1</th>\n",
              "      <th>EMP_Sat_Remote_2</th>\n",
              "      <th>EMP_Sat_Remote_3</th>\n",
              "      <th>EMP_Sat_Remote_4</th>\n",
              "      <th>EMP_Sat_Remote_5</th>\n",
              "      <th>EMP_Engagement_1</th>\n",
              "      <th>EMP_Engagement_2</th>\n",
              "      <th>EMP_Engagement_3</th>\n",
              "      <th>EMP_Engagement_4</th>\n",
              "      <th>EMP_Engagement_5</th>\n",
              "      <th>last_evaluation</th>\n",
              "      <th>number_project</th>\n",
              "      <th>average_montly_hours</th>\n",
              "      <th>time_spend_company</th>\n",
              "      <th>Work_accident</th>\n",
              "      <th>left_Company</th>\n",
              "      <th>promotion_last_5years</th>\n",
              "      <th>sales</th>\n",
              "      <th>Gender</th>\n",
              "      <th>LinkedIn_Hits</th>\n",
              "      <th>Emp_Work_Status2</th>\n",
              "      <th>Emp_Work_Status_3</th>\n",
              "      <th>Emp_Work_Status_4</th>\n",
              "      <th>Emp_Work_Status_5</th>\n",
              "      <th>Emp_Identity</th>\n",
              "      <th>Emp_Role</th>\n",
              "      <th>Emp_Position</th>\n",
              "      <th>Emp_Title</th>\n",
              "      <th>Women_Leave</th>\n",
              "      <th>Men_Leave</th>\n",
              "      <th>Emp_Competitive_1</th>\n",
              "      <th>Emp_Competitive_2</th>\n",
              "      <th>Emp_Competitive_3</th>\n",
              "      <th>Emp_Competitive_4</th>\n",
              "      <th>Emp_Competitive_5</th>\n",
              "      <th>Emp_Collaborative_1</th>\n",
              "      <th>Emp_Collaborative_2</th>\n",
              "      <th>Emp_Collaborative_3</th>\n",
              "      <th>Emp_Collaborative_4</th>\n",
              "      <th>Emp_Collaborative_5</th>\n",
              "      <th>high</th>\n",
              "      <th>low</th>\n",
              "      <th>medium</th>\n",
              "    </tr>\n",
              "  </thead>\n",
              "  <tbody>\n",
              "    <tr>\n",
              "      <th>0</th>\n",
              "      <td>Operations</td>\n",
              "      <td>US</td>\n",
              "      <td>VP</td>\n",
              "      <td>0</td>\n",
              "      <td>3</td>\n",
              "      <td>6</td>\n",
              "      <td>6</td>\n",
              "      <td>0.4</td>\n",
              "      <td>3.0</td>\n",
              "      <td>3.0</td>\n",
              "      <td>4.0</td>\n",
              "      <td>3.0</td>\n",
              "      <td>5.0</td>\n",
              "      <td>2</td>\n",
              "      <td>3</td>\n",
              "      <td>2</td>\n",
              "      <td>3</td>\n",
              "      <td>2</td>\n",
              "      <td>5</td>\n",
              "      <td>5</td>\n",
              "      <td>4</td>\n",
              "      <td>4</td>\n",
              "      <td>3</td>\n",
              "      <td>0.36</td>\n",
              "      <td>3</td>\n",
              "      <td>168</td>\n",
              "      <td>3</td>\n",
              "      <td>1</td>\n",
              "      <td>0</td>\n",
              "      <td>0</td>\n",
              "      <td>sales</td>\n",
              "      <td>M</td>\n",
              "      <td>5</td>\n",
              "      <td>4</td>\n",
              "      <td>3</td>\n",
              "      <td>1</td>\n",
              "      <td>1</td>\n",
              "      <td>1</td>\n",
              "      <td>1</td>\n",
              "      <td>2</td>\n",
              "      <td>1</td>\n",
              "      <td>1.0</td>\n",
              "      <td>1.0</td>\n",
              "      <td>2</td>\n",
              "      <td>4</td>\n",
              "      <td>2</td>\n",
              "      <td>2</td>\n",
              "      <td>2</td>\n",
              "      <td>2</td>\n",
              "      <td>2</td>\n",
              "      <td>2</td>\n",
              "      <td>1</td>\n",
              "      <td>5</td>\n",
              "      <td>0</td>\n",
              "      <td>1</td>\n",
              "      <td>0</td>\n",
              "    </tr>\n",
              "    <tr>\n",
              "      <th>1</th>\n",
              "      <td>Sales</td>\n",
              "      <td>UK</td>\n",
              "      <td>Senior Director</td>\n",
              "      <td>0</td>\n",
              "      <td>3</td>\n",
              "      <td>6</td>\n",
              "      <td>6</td>\n",
              "      <td>0.4</td>\n",
              "      <td>3.0</td>\n",
              "      <td>3.0</td>\n",
              "      <td>4.0</td>\n",
              "      <td>3.0</td>\n",
              "      <td>5.0</td>\n",
              "      <td>2</td>\n",
              "      <td>3</td>\n",
              "      <td>2</td>\n",
              "      <td>3</td>\n",
              "      <td>2</td>\n",
              "      <td>5</td>\n",
              "      <td>5</td>\n",
              "      <td>4</td>\n",
              "      <td>4</td>\n",
              "      <td>3</td>\n",
              "      <td>0.36</td>\n",
              "      <td>5</td>\n",
              "      <td>159</td>\n",
              "      <td>2</td>\n",
              "      <td>0</td>\n",
              "      <td>0</td>\n",
              "      <td>0</td>\n",
              "      <td>accounting</td>\n",
              "      <td>F</td>\n",
              "      <td>58</td>\n",
              "      <td>3</td>\n",
              "      <td>3</td>\n",
              "      <td>4</td>\n",
              "      <td>3</td>\n",
              "      <td>2</td>\n",
              "      <td>1</td>\n",
              "      <td>2</td>\n",
              "      <td>1</td>\n",
              "      <td>0.0</td>\n",
              "      <td>1.0</td>\n",
              "      <td>2</td>\n",
              "      <td>2</td>\n",
              "      <td>1</td>\n",
              "      <td>4</td>\n",
              "      <td>1</td>\n",
              "      <td>3</td>\n",
              "      <td>2</td>\n",
              "      <td>5</td>\n",
              "      <td>1</td>\n",
              "      <td>5</td>\n",
              "      <td>0</td>\n",
              "      <td>1</td>\n",
              "      <td>0</td>\n",
              "    </tr>\n",
              "    <tr>\n",
              "      <th>2</th>\n",
              "      <td>Finance</td>\n",
              "      <td>France</td>\n",
              "      <td>Senior Director</td>\n",
              "      <td>0</td>\n",
              "      <td>3</td>\n",
              "      <td>6</td>\n",
              "      <td>6</td>\n",
              "      <td>0.4</td>\n",
              "      <td>3.0</td>\n",
              "      <td>3.0</td>\n",
              "      <td>4.0</td>\n",
              "      <td>3.0</td>\n",
              "      <td>5.0</td>\n",
              "      <td>2</td>\n",
              "      <td>3</td>\n",
              "      <td>2</td>\n",
              "      <td>3</td>\n",
              "      <td>2</td>\n",
              "      <td>5</td>\n",
              "      <td>5</td>\n",
              "      <td>4</td>\n",
              "      <td>4</td>\n",
              "      <td>3</td>\n",
              "      <td>0.36</td>\n",
              "      <td>2</td>\n",
              "      <td>282</td>\n",
              "      <td>3</td>\n",
              "      <td>0</td>\n",
              "      <td>0</td>\n",
              "      <td>0</td>\n",
              "      <td>product_mng</td>\n",
              "      <td>F</td>\n",
              "      <td>42</td>\n",
              "      <td>2</td>\n",
              "      <td>4</td>\n",
              "      <td>1</td>\n",
              "      <td>3</td>\n",
              "      <td>1</td>\n",
              "      <td>1</td>\n",
              "      <td>2</td>\n",
              "      <td>2</td>\n",
              "      <td>1.0</td>\n",
              "      <td>1.0</td>\n",
              "      <td>1</td>\n",
              "      <td>5</td>\n",
              "      <td>1</td>\n",
              "      <td>2</td>\n",
              "      <td>5</td>\n",
              "      <td>2</td>\n",
              "      <td>2</td>\n",
              "      <td>4</td>\n",
              "      <td>4</td>\n",
              "      <td>4</td>\n",
              "      <td>0</td>\n",
              "      <td>0</td>\n",
              "      <td>1</td>\n",
              "    </tr>\n",
              "    <tr>\n",
              "      <th>3</th>\n",
              "      <td>Human Resources</td>\n",
              "      <td>China</td>\n",
              "      <td>Senior Director</td>\n",
              "      <td>0</td>\n",
              "      <td>3</td>\n",
              "      <td>6</td>\n",
              "      <td>6</td>\n",
              "      <td>0.4</td>\n",
              "      <td>3.0</td>\n",
              "      <td>3.0</td>\n",
              "      <td>4.0</td>\n",
              "      <td>3.0</td>\n",
              "      <td>5.0</td>\n",
              "      <td>2</td>\n",
              "      <td>3</td>\n",
              "      <td>2</td>\n",
              "      <td>3</td>\n",
              "      <td>2</td>\n",
              "      <td>5</td>\n",
              "      <td>5</td>\n",
              "      <td>4</td>\n",
              "      <td>4</td>\n",
              "      <td>3</td>\n",
              "      <td>0.36</td>\n",
              "      <td>4</td>\n",
              "      <td>278</td>\n",
              "      <td>4</td>\n",
              "      <td>1</td>\n",
              "      <td>0</td>\n",
              "      <td>0</td>\n",
              "      <td>product_mng</td>\n",
              "      <td>M</td>\n",
              "      <td>37</td>\n",
              "      <td>3</td>\n",
              "      <td>1</td>\n",
              "      <td>4</td>\n",
              "      <td>5</td>\n",
              "      <td>2</td>\n",
              "      <td>1</td>\n",
              "      <td>2</td>\n",
              "      <td>1</td>\n",
              "      <td>1.0</td>\n",
              "      <td>1.0</td>\n",
              "      <td>1</td>\n",
              "      <td>1</td>\n",
              "      <td>2</td>\n",
              "      <td>5</td>\n",
              "      <td>1</td>\n",
              "      <td>1</td>\n",
              "      <td>2</td>\n",
              "      <td>4</td>\n",
              "      <td>4</td>\n",
              "      <td>1</td>\n",
              "      <td>1</td>\n",
              "      <td>0</td>\n",
              "      <td>0</td>\n",
              "    </tr>\n",
              "    <tr>\n",
              "      <th>4</th>\n",
              "      <td>IT</td>\n",
              "      <td>Korea</td>\n",
              "      <td>Director</td>\n",
              "      <td>0</td>\n",
              "      <td>3</td>\n",
              "      <td>6</td>\n",
              "      <td>6</td>\n",
              "      <td>0.4</td>\n",
              "      <td>3.0</td>\n",
              "      <td>3.0</td>\n",
              "      <td>4.0</td>\n",
              "      <td>3.0</td>\n",
              "      <td>5.0</td>\n",
              "      <td>2</td>\n",
              "      <td>3</td>\n",
              "      <td>2</td>\n",
              "      <td>3</td>\n",
              "      <td>2</td>\n",
              "      <td>5</td>\n",
              "      <td>5</td>\n",
              "      <td>4</td>\n",
              "      <td>4</td>\n",
              "      <td>3</td>\n",
              "      <td>0.36</td>\n",
              "      <td>6</td>\n",
              "      <td>256</td>\n",
              "      <td>5</td>\n",
              "      <td>0</td>\n",
              "      <td>0</td>\n",
              "      <td>0</td>\n",
              "      <td>sales</td>\n",
              "      <td>F</td>\n",
              "      <td>6</td>\n",
              "      <td>4</td>\n",
              "      <td>5</td>\n",
              "      <td>4</td>\n",
              "      <td>5</td>\n",
              "      <td>1</td>\n",
              "      <td>1</td>\n",
              "      <td>2</td>\n",
              "      <td>1</td>\n",
              "      <td>1.0</td>\n",
              "      <td>1.0</td>\n",
              "      <td>1</td>\n",
              "      <td>4</td>\n",
              "      <td>1</td>\n",
              "      <td>5</td>\n",
              "      <td>3</td>\n",
              "      <td>5</td>\n",
              "      <td>1</td>\n",
              "      <td>2</td>\n",
              "      <td>5</td>\n",
              "      <td>4</td>\n",
              "      <td>0</td>\n",
              "      <td>1</td>\n",
              "      <td>0</td>\n",
              "    </tr>\n",
              "  </tbody>\n",
              "</table>\n",
              "</div>"
            ],
            "text/plain": [
              "        Department     GEO             Role  ...  high  low  medium\n",
              "0       Operations      US               VP  ...     0    1       0\n",
              "1            Sales      UK  Senior Director  ...     0    1       0\n",
              "2          Finance  France  Senior Director  ...     0    0       1\n",
              "3  Human Resources   China  Senior Director  ...     1    0       0\n",
              "4               IT   Korea         Director  ...     0    1       0\n",
              "\n",
              "[5 rows x 56 columns]"
            ]
          },
          "metadata": {
            "tags": []
          },
          "execution_count": 15
        }
      ]
    },
    {
      "cell_type": "markdown",
      "metadata": {
        "id": "35ZxgMe5brRO"
      },
      "source": [
        "# **ANÁLISE DE DADOS**\n",
        "\n",
        "AGORA QUE OS DADOS JÁ FORAM LIMPOS, É POSSÍVEL REALIZAR UMA MELHOR ANÁLISE EXPLORATÓRIA E UMA MELHOR VISUALIZAÇÃO DOS DADOS"
      ]
    },
    {
      "cell_type": "markdown",
      "metadata": {
        "id": "GNJNYJzvc7Ta"
      },
      "source": [
        "Minha expectativa através do gráfico abaixo era saber em quais cargos os homens e mulheres predominavam. No entanto, pude concluir que eles se equivalem em todos os cargos. É possível observar também que o maior número de funcionários se encontra nos cargos de level 2-4, como era de se esperar."
      ]
    },
    {
      "cell_type": "code",
      "metadata": {
        "id": "p5bG33BYdBJP",
        "colab": {
          "base_uri": "https://localhost:8080/",
          "height": 351
        },
        "outputId": "b9afd722-d80e-4fe6-a325-227cb3f92181"
      },
      "source": [
        "plt.figure(figsize=(15, 5))\n",
        "\n",
        "sns.set_style('whitegrid')\n",
        "sns.countplot(x='Role',hue='Gender',data=hr_dataset,palette='RdBu_r')"
      ],
      "execution_count": null,
      "outputs": [
        {
          "output_type": "execute_result",
          "data": {
            "text/plain": [
              "<matplotlib.axes._subplots.AxesSubplot at 0x7f7975616c50>"
            ]
          },
          "metadata": {
            "tags": []
          },
          "execution_count": 16
        },
        {
          "output_type": "display_data",
          "data": {
            "image/png": "[encoded data removed]",
            "text/plain": [
              "<Figure size 1080x360 with 1 Axes>"
            ]
          },
          "metadata": {
            "tags": [],
            "needs_background": "light"
          }
        }
      ]
    },
    {
      "cell_type": "markdown",
      "metadata": {
        "id": "YL8HG4CHkFiD"
      },
      "source": [
        "Aqui eu busco saber qual era o cargo dos funcionários que deixaram a empresa. \n",
        "Como vimos que os cargos de maior quantidade eram os de level 2-4, era esperado que esses também fossem os que mais deixassem a empresa, e isso se mostrou verdadeiro.\n",
        "\n",
        "0 => não deixou a empresa\n",
        "\n",
        "1 => deixou a empresa"
      ]
    },
    {
      "cell_type": "code",
      "metadata": {
        "id": "M7ae2kefkyBm",
        "colab": {
          "base_uri": "https://localhost:8080/",
          "height": 297
        },
        "outputId": "a3c2144a-2f13-42ff-b435-6350c7594a1b"
      },
      "source": [
        "sns.set_style('whitegrid')\n",
        "sns.countplot(x='left_Company',hue='Role',data=hr_dataset,palette='rainbow')"
      ],
      "execution_count": null,
      "outputs": [
        {
          "output_type": "execute_result",
          "data": {
            "text/plain": [
              "<matplotlib.axes._subplots.AxesSubplot at 0x7f79754df278>"
            ]
          },
          "metadata": {
            "tags": []
          },
          "execution_count": 17
        },
        {
          "output_type": "display_data",
          "data": {
            "image/png": "[encoded data removed]",
            "text/plain": [
              "<Figure size 432x288 with 1 Axes>"
            ]
          },
          "metadata": {
            "tags": []
          }
        }
      ]
    },
    {
      "cell_type": "markdown",
      "metadata": {
        "id": "EMkXOcz7oLHn"
      },
      "source": [
        "Nesse gráfico eu busco ver se os que saíram da empresa haviam sido promovidos nos últimos 5 anos ou não. Minha expectativa é que essa seja uma das causas das pessoas estarem deixando a companhia.\n",
        "\n",
        "E como pude concluir, todos os funcionários que deixaram a empresa não foram promovidos nos últimos 5 anos.\n"
      ]
    },
    {
      "cell_type": "code",
      "metadata": {
        "id": "S7nPpJW8pWFt",
        "colab": {
          "base_uri": "https://localhost:8080/",
          "height": 297
        },
        "outputId": "9d8b69fe-7ebf-4dca-e145-22f60d475940"
      },
      "source": [
        "sns.set_style('whitegrid')\n",
        "sns.countplot(x='left_Company',hue='promotion_last_5years',data=hr_dataset,palette='RdBu_r')"
      ],
      "execution_count": null,
      "outputs": [
        {
          "output_type": "execute_result",
          "data": {
            "text/plain": [
              "<matplotlib.axes._subplots.AxesSubplot at 0x7f7975452e80>"
            ]
          },
          "metadata": {
            "tags": []
          },
          "execution_count": 18
        },
        {
          "output_type": "display_data",
          "data": {
            "image/png": "[encoded data removed]",
            "text/plain": [
              "<Figure size 432x288 with 1 Axes>"
            ]
          },
          "metadata": {
            "tags": []
          }
        }
      ]
    },
    {
      "cell_type": "markdown",
      "metadata": {
        "id": "K9tnKZhWt6dx"
      },
      "source": [
        "Podemos ver também a relação das variáveis entre si com uma matriz de correlação. Minha expectativa é ver com o que as dummy variables (low, medium e high), que eram os valores do salário, se relacionam, e pudemos ver que o salário está relacionado levemente à forma como o funcionário se sente engajado com as atividades da empresa."
      ]
    },
    {
      "cell_type": "code",
      "metadata": {
        "id": "op6zqQpsuLiY",
        "colab": {
          "base_uri": "https://localhost:8080/",
          "height": 595
        },
        "outputId": "8512d55e-9f86-4180-86e2-4fe61b8e799f"
      },
      "source": [
        "plt.figure(figsize=(20, 10))\n",
        "sns.heatmap(hr_dataset.corr(),cmap='coolwarm')"
      ],
      "execution_count": null,
      "outputs": [
        {
          "output_type": "execute_result",
          "data": {
            "text/plain": [
              "<matplotlib.axes._subplots.AxesSubplot at 0x7f79754338d0>"
            ]
          },
          "metadata": {
            "tags": []
          },
          "execution_count": 19
        },
        {
          "output_type": "display_data",
          "data": {
            "image/png": "[encoded data removed]",
            "text/plain": [
              "<Figure size 1440x720 with 2 Axes>"
            ]
          },
          "metadata": {
            "tags": []
          }
        }
      ]
    },
    {
      "cell_type": "markdown",
      "metadata": {
        "id": "gzoHqSTw-Our"
      },
      "source": [
        "# **REALIZANDO PREVISÕES**\n",
        "\n",
        "Acredito que dois problemas podem ser bem explorados e previstos com um modelo de Machine Learning. Prever se um funcionário deixará ou não uma empresa (left company)  e prever como será a performance de um funcionário naquele ano (Trending Perf)"
      ]
    },
    {
      "cell_type": "markdown",
      "metadata": {
        "id": "jMlu9QjXBatm"
      },
      "source": [
        "Antes é necessário fazer os últimos ajustes nas labels e transformar as variáveis categóricas restantes em variáveis dummy"
      ]
    },
    {
      "cell_type": "code",
      "metadata": {
        "id": "YqVuW0L5Bp7I",
        "colab": {
          "base_uri": "https://localhost:8080/",
          "height": 210
        },
        "outputId": "a419d131-71a6-4b8e-91e4-81c440e85d75"
      },
      "source": [
        "department = pd.get_dummies(hr_dataset['Department'])\n",
        "geo = pd.get_dummies(hr_dataset['GEO'])\n",
        "role = pd.get_dummies(hr_dataset['Role'])\n",
        "sales = pd.get_dummies(hr_dataset['sales'])\n",
        "gender = pd.get_dummies(hr_dataset['Gender'])\n",
        "\n",
        "hr_dataset.drop(['Department', 'GEO', 'Role', 'sales', 'Gender'],axis=1,inplace=True)\n",
        "hr_dataset = pd.concat([hr_dataset, department, geo, role, sales, gender], axis=1)\n",
        "hr_dataset.head(3)"
      ],
      "execution_count": null,
      "outputs": [
        {
          "output_type": "execute_result",
          "data": {
            "text/html": [
              "<div>\n",
              "<style scoped>\n",
              "    .dataframe tbody tr th:only-of-type {\n",
              "        vertical-align: middle;\n",
              "    }\n",
              "\n",
              "    .dataframe tbody tr th {\n",
              "        vertical-align: top;\n",
              "    }\n",
              "\n",
              "    .dataframe thead th {\n",
              "        text-align: right;\n",
              "    }\n",
              "</style>\n",
              "<table border=\"1\" class=\"dataframe\">\n",
              "  <thead>\n",
              "    <tr style=\"text-align: right;\">\n",
              "      <th></th>\n",
              "      <th>Will_Relocate</th>\n",
              "      <th>Trending Perf</th>\n",
              "      <th>Talent_Level</th>\n",
              "      <th>Validated_Talent_Level</th>\n",
              "      <th>Percent_Remote</th>\n",
              "      <th>EMP_Sat_OnPrem_1</th>\n",
              "      <th>EMP_Sat_OnPrem_2</th>\n",
              "      <th>EMP_Sat_OnPrem_3</th>\n",
              "      <th>EMP_Sat_OnPrem_4</th>\n",
              "      <th>EMP_Sat_OnPrem_5</th>\n",
              "      <th>EMP_Sat_Remote_1</th>\n",
              "      <th>EMP_Sat_Remote_2</th>\n",
              "      <th>EMP_Sat_Remote_3</th>\n",
              "      <th>EMP_Sat_Remote_4</th>\n",
              "      <th>EMP_Sat_Remote_5</th>\n",
              "      <th>EMP_Engagement_1</th>\n",
              "      <th>EMP_Engagement_2</th>\n",
              "      <th>EMP_Engagement_3</th>\n",
              "      <th>EMP_Engagement_4</th>\n",
              "      <th>EMP_Engagement_5</th>\n",
              "      <th>last_evaluation</th>\n",
              "      <th>number_project</th>\n",
              "      <th>average_montly_hours</th>\n",
              "      <th>time_spend_company</th>\n",
              "      <th>Work_accident</th>\n",
              "      <th>left_Company</th>\n",
              "      <th>promotion_last_5years</th>\n",
              "      <th>LinkedIn_Hits</th>\n",
              "      <th>Emp_Work_Status2</th>\n",
              "      <th>Emp_Work_Status_3</th>\n",
              "      <th>Emp_Work_Status_4</th>\n",
              "      <th>Emp_Work_Status_5</th>\n",
              "      <th>Emp_Identity</th>\n",
              "      <th>Emp_Role</th>\n",
              "      <th>Emp_Position</th>\n",
              "      <th>Emp_Title</th>\n",
              "      <th>Women_Leave</th>\n",
              "      <th>Men_Leave</th>\n",
              "      <th>Emp_Competitive_1</th>\n",
              "      <th>Emp_Competitive_2</th>\n",
              "      <th>...</th>\n",
              "      <th>Emp_Collaborative_3</th>\n",
              "      <th>Emp_Collaborative_4</th>\n",
              "      <th>Emp_Collaborative_5</th>\n",
              "      <th>high</th>\n",
              "      <th>low</th>\n",
              "      <th>medium</th>\n",
              "      <th>Finance</th>\n",
              "      <th>Human Resources</th>\n",
              "      <th>IT</th>\n",
              "      <th>Operations</th>\n",
              "      <th>Sales</th>\n",
              "      <th>Warehouse</th>\n",
              "      <th>Australia</th>\n",
              "      <th>China</th>\n",
              "      <th>Colombia</th>\n",
              "      <th>France</th>\n",
              "      <th>Japan</th>\n",
              "      <th>Korea</th>\n",
              "      <th>Turkey</th>\n",
              "      <th>UK</th>\n",
              "      <th>US</th>\n",
              "      <th>Director</th>\n",
              "      <th>Level 1</th>\n",
              "      <th>Level 2-4</th>\n",
              "      <th>Manager</th>\n",
              "      <th>Senior Director</th>\n",
              "      <th>Senior Manager</th>\n",
              "      <th>VP</th>\n",
              "      <th>IT</th>\n",
              "      <th>RandD</th>\n",
              "      <th>accounting</th>\n",
              "      <th>hr</th>\n",
              "      <th>management</th>\n",
              "      <th>marketing</th>\n",
              "      <th>product_mng</th>\n",
              "      <th>sales</th>\n",
              "      <th>support</th>\n",
              "      <th>technical</th>\n",
              "      <th>F</th>\n",
              "      <th>M</th>\n",
              "    </tr>\n",
              "  </thead>\n",
              "  <tbody>\n",
              "    <tr>\n",
              "      <th>0</th>\n",
              "      <td>0</td>\n",
              "      <td>3</td>\n",
              "      <td>6</td>\n",
              "      <td>6</td>\n",
              "      <td>0.4</td>\n",
              "      <td>3.0</td>\n",
              "      <td>3.0</td>\n",
              "      <td>4.0</td>\n",
              "      <td>3.0</td>\n",
              "      <td>5.0</td>\n",
              "      <td>2</td>\n",
              "      <td>3</td>\n",
              "      <td>2</td>\n",
              "      <td>3</td>\n",
              "      <td>2</td>\n",
              "      <td>5</td>\n",
              "      <td>5</td>\n",
              "      <td>4</td>\n",
              "      <td>4</td>\n",
              "      <td>3</td>\n",
              "      <td>0.36</td>\n",
              "      <td>3</td>\n",
              "      <td>168</td>\n",
              "      <td>3</td>\n",
              "      <td>1</td>\n",
              "      <td>0</td>\n",
              "      <td>0</td>\n",
              "      <td>5</td>\n",
              "      <td>4</td>\n",
              "      <td>3</td>\n",
              "      <td>1</td>\n",
              "      <td>1</td>\n",
              "      <td>1</td>\n",
              "      <td>1</td>\n",
              "      <td>2</td>\n",
              "      <td>1</td>\n",
              "      <td>1.0</td>\n",
              "      <td>1.0</td>\n",
              "      <td>2</td>\n",
              "      <td>4</td>\n",
              "      <td>...</td>\n",
              "      <td>2</td>\n",
              "      <td>1</td>\n",
              "      <td>5</td>\n",
              "      <td>0</td>\n",
              "      <td>1</td>\n",
              "      <td>0</td>\n",
              "      <td>0</td>\n",
              "      <td>0</td>\n",
              "      <td>0</td>\n",
              "      <td>1</td>\n",
              "      <td>0</td>\n",
              "      <td>0</td>\n",
              "      <td>0</td>\n",
              "      <td>0</td>\n",
              "      <td>0</td>\n",
              "      <td>0</td>\n",
              "      <td>0</td>\n",
              "      <td>0</td>\n",
              "      <td>0</td>\n",
              "      <td>0</td>\n",
              "      <td>1</td>\n",
              "      <td>0</td>\n",
              "      <td>0</td>\n",
              "      <td>0</td>\n",
              "      <td>0</td>\n",
              "      <td>0</td>\n",
              "      <td>0</td>\n",
              "      <td>1</td>\n",
              "      <td>0</td>\n",
              "      <td>0</td>\n",
              "      <td>0</td>\n",
              "      <td>0</td>\n",
              "      <td>0</td>\n",
              "      <td>0</td>\n",
              "      <td>0</td>\n",
              "      <td>1</td>\n",
              "      <td>0</td>\n",
              "      <td>0</td>\n",
              "      <td>0</td>\n",
              "      <td>1</td>\n",
              "    </tr>\n",
              "    <tr>\n",
              "      <th>1</th>\n",
              "      <td>0</td>\n",
              "      <td>3</td>\n",
              "      <td>6</td>\n",
              "      <td>6</td>\n",
              "      <td>0.4</td>\n",
              "      <td>3.0</td>\n",
              "      <td>3.0</td>\n",
              "      <td>4.0</td>\n",
              "      <td>3.0</td>\n",
              "      <td>5.0</td>\n",
              "      <td>2</td>\n",
              "      <td>3</td>\n",
              "      <td>2</td>\n",
              "      <td>3</td>\n",
              "      <td>2</td>\n",
              "      <td>5</td>\n",
              "      <td>5</td>\n",
              "      <td>4</td>\n",
              "      <td>4</td>\n",
              "      <td>3</td>\n",
              "      <td>0.36</td>\n",
              "      <td>5</td>\n",
              "      <td>159</td>\n",
              "      <td>2</td>\n",
              "      <td>0</td>\n",
              "      <td>0</td>\n",
              "      <td>0</td>\n",
              "      <td>58</td>\n",
              "      <td>3</td>\n",
              "      <td>3</td>\n",
              "      <td>4</td>\n",
              "      <td>3</td>\n",
              "      <td>2</td>\n",
              "      <td>1</td>\n",
              "      <td>2</td>\n",
              "      <td>1</td>\n",
              "      <td>0.0</td>\n",
              "      <td>1.0</td>\n",
              "      <td>2</td>\n",
              "      <td>2</td>\n",
              "      <td>...</td>\n",
              "      <td>5</td>\n",
              "      <td>1</td>\n",
              "      <td>5</td>\n",
              "      <td>0</td>\n",
              "      <td>1</td>\n",
              "      <td>0</td>\n",
              "      <td>0</td>\n",
              "      <td>0</td>\n",
              "      <td>0</td>\n",
              "      <td>0</td>\n",
              "      <td>1</td>\n",
              "      <td>0</td>\n",
              "      <td>0</td>\n",
              "      <td>0</td>\n",
              "      <td>0</td>\n",
              "      <td>0</td>\n",
              "      <td>0</td>\n",
              "      <td>0</td>\n",
              "      <td>0</td>\n",
              "      <td>1</td>\n",
              "      <td>0</td>\n",
              "      <td>0</td>\n",
              "      <td>0</td>\n",
              "      <td>0</td>\n",
              "      <td>0</td>\n",
              "      <td>1</td>\n",
              "      <td>0</td>\n",
              "      <td>0</td>\n",
              "      <td>0</td>\n",
              "      <td>0</td>\n",
              "      <td>1</td>\n",
              "      <td>0</td>\n",
              "      <td>0</td>\n",
              "      <td>0</td>\n",
              "      <td>0</td>\n",
              "      <td>0</td>\n",
              "      <td>0</td>\n",
              "      <td>0</td>\n",
              "      <td>1</td>\n",
              "      <td>0</td>\n",
              "    </tr>\n",
              "    <tr>\n",
              "      <th>2</th>\n",
              "      <td>0</td>\n",
              "      <td>3</td>\n",
              "      <td>6</td>\n",
              "      <td>6</td>\n",
              "      <td>0.4</td>\n",
              "      <td>3.0</td>\n",
              "      <td>3.0</td>\n",
              "      <td>4.0</td>\n",
              "      <td>3.0</td>\n",
              "      <td>5.0</td>\n",
              "      <td>2</td>\n",
              "      <td>3</td>\n",
              "      <td>2</td>\n",
              "      <td>3</td>\n",
              "      <td>2</td>\n",
              "      <td>5</td>\n",
              "      <td>5</td>\n",
              "      <td>4</td>\n",
              "      <td>4</td>\n",
              "      <td>3</td>\n",
              "      <td>0.36</td>\n",
              "      <td>2</td>\n",
              "      <td>282</td>\n",
              "      <td>3</td>\n",
              "      <td>0</td>\n",
              "      <td>0</td>\n",
              "      <td>0</td>\n",
              "      <td>42</td>\n",
              "      <td>2</td>\n",
              "      <td>4</td>\n",
              "      <td>1</td>\n",
              "      <td>3</td>\n",
              "      <td>1</td>\n",
              "      <td>1</td>\n",
              "      <td>2</td>\n",
              "      <td>2</td>\n",
              "      <td>1.0</td>\n",
              "      <td>1.0</td>\n",
              "      <td>1</td>\n",
              "      <td>5</td>\n",
              "      <td>...</td>\n",
              "      <td>4</td>\n",
              "      <td>4</td>\n",
              "      <td>4</td>\n",
              "      <td>0</td>\n",
              "      <td>0</td>\n",
              "      <td>1</td>\n",
              "      <td>1</td>\n",
              "      <td>0</td>\n",
              "      <td>0</td>\n",
              "      <td>0</td>\n",
              "      <td>0</td>\n",
              "      <td>0</td>\n",
              "      <td>0</td>\n",
              "      <td>0</td>\n",
              "      <td>0</td>\n",
              "      <td>1</td>\n",
              "      <td>0</td>\n",
              "      <td>0</td>\n",
              "      <td>0</td>\n",
              "      <td>0</td>\n",
              "      <td>0</td>\n",
              "      <td>0</td>\n",
              "      <td>0</td>\n",
              "      <td>0</td>\n",
              "      <td>0</td>\n",
              "      <td>1</td>\n",
              "      <td>0</td>\n",
              "      <td>0</td>\n",
              "      <td>0</td>\n",
              "      <td>0</td>\n",
              "      <td>0</td>\n",
              "      <td>0</td>\n",
              "      <td>0</td>\n",
              "      <td>0</td>\n",
              "      <td>1</td>\n",
              "      <td>0</td>\n",
              "      <td>0</td>\n",
              "      <td>0</td>\n",
              "      <td>1</td>\n",
              "      <td>0</td>\n",
              "    </tr>\n",
              "  </tbody>\n",
              "</table>\n",
              "<p>3 rows × 85 columns</p>\n",
              "</div>"
            ],
            "text/plain": [
              "   Will_Relocate  Trending Perf  Talent_Level  ...  technical  F  M\n",
              "0              0              3             6  ...          0  0  1\n",
              "1              0              3             6  ...          0  1  0\n",
              "2              0              3             6  ...          0  1  0\n",
              "\n",
              "[3 rows x 85 columns]"
            ]
          },
          "metadata": {
            "tags": []
          },
          "execution_count": 21
        }
      ]
    },
    {
      "cell_type": "markdown",
      "metadata": {
        "id": "051T5C0NZSLG"
      },
      "source": [
        "**Padronizando as variáveis**"
      ]
    },
    {
      "cell_type": "code",
      "metadata": {
        "id": "LY0ajtVGZUnh",
        "colab": {
          "base_uri": "https://localhost:8080/",
          "height": 34
        },
        "outputId": "0531b6d6-6fe3-456a-cc22-24d55242d832"
      },
      "source": [
        "from sklearn.preprocessing import StandardScaler\n",
        "scaler = StandardScaler()\n",
        "scaler.fit(hr_dataset.drop('left_Company', axis=1))\n",
        "scaled_features = scaler.transform(hr_dataset.drop('left_Company', axis=1))\n",
        "df_feat = pd.DataFrame(scaled_features, columns=hr_dataset.columns[:-1])\n",
        "\n",
        "from sklearn.preprocessing import LabelEncoder\n",
        "lab_enc = LabelEncoder()\n",
        "encoded = lab_enc.fit_transform(df_feat['left_Company'])"
      ],
      "execution_count": null,
      "outputs": [
        {
          "output_type": "execute_result",
          "data": {
            "text/plain": [
              "array([0, 0, 0, ..., 0, 0, 0])"
            ]
          },
          "metadata": {
            "tags": []
          },
          "execution_count": 54
        }
      ]
    },
    {
      "cell_type": "markdown",
      "metadata": {
        "id": "EhcTRWx0ASGG"
      },
      "source": [
        "**Divisão treino e teste quem deixará a empresa**"
      ]
    },
    {
      "cell_type": "code",
      "metadata": {
        "id": "SlI2qkxdAYXB"
      },
      "source": [
        "from sklearn.model_selection import train_test_split\n",
        "X_treino_svm, X_teste_svm, y_treino_svm, y_teste_svm = train_test_split(df_feat.drop('left_Company', axis=1), \n",
        "                                                    encoded, test_size=0.30)"
      ],
      "execution_count": null,
      "outputs": []
    },
    {
      "cell_type": "markdown",
      "metadata": {
        "id": "So__DJ_ZA12j"
      },
      "source": [
        "**Treinando e prevendo quem deixará a empresa**"
      ]
    },
    {
      "cell_type": "code",
      "metadata": {
        "id": "pgCYpiWvA5Zs"
      },
      "source": [
        "from sklearn.svm import SVC\n",
        "svm = SVC()\n",
        "svm.fit(X_treino_svm, y_treino_svm)\n",
        "previsoes_svm = svm.predict(X_teste_svm)"
      ],
      "execution_count": null,
      "outputs": []
    },
    {
      "cell_type": "markdown",
      "metadata": {
        "id": "Y_VkThA6ED5-"
      },
      "source": [
        "**Avaliando o modelo**\n",
        "\n",
        "podemos ver que o modelo está com uma precisão muito próxima de 99%"
      ]
    },
    {
      "cell_type": "code",
      "metadata": {
        "id": "JqLJ-tdmELop",
        "colab": {
          "base_uri": "https://localhost:8080/",
          "height": 173
        },
        "outputId": "52603554-44d3-4ad5-a358-e88cc34ca749"
      },
      "source": [
        "from sklearn.metrics import classification_report, confusion_matrix\n",
        "print(classification_report(y_teste_svm, previsoes_svm))"
      ],
      "execution_count": null,
      "outputs": [
        {
          "output_type": "stream",
          "text": [
            "              precision    recall  f1-score   support\n",
            "\n",
            "           0       0.99      1.00      1.00      4412\n",
            "           1       1.00      0.51      0.68        88\n",
            "\n",
            "    accuracy                           0.99      4500\n",
            "   macro avg       1.00      0.76      0.84      4500\n",
            "weighted avg       0.99      0.99      0.99      4500\n",
            "\n"
          ],
          "name": "stdout"
        }
      ]
    },
    {
      "cell_type": "markdown",
      "metadata": {
        "id": "_LIoqI-zUGaS"
      },
      "source": [
        "Vamos ver a matriz de confusão"
      ]
    },
    {
      "cell_type": "code",
      "metadata": {
        "id": "adrg91XoUFbC",
        "colab": {
          "base_uri": "https://localhost:8080/",
          "height": 52
        },
        "outputId": "12af0336-9367-429a-fe66-39f40cd23c55"
      },
      "source": [
        "print(confusion_matrix(y_teste_svm, previsoes_svm))"
      ],
      "execution_count": null,
      "outputs": [
        {
          "output_type": "stream",
          "text": [
            "[[4412    0]\n",
            " [  43   45]]\n"
          ],
          "name": "stdout"
        }
      ]
    },
    {
      "cell_type": "markdown",
      "metadata": {
        "id": "LMnJGpjXFGue"
      },
      "source": [
        "**Divisão treino e teste da performance dos funcionários**"
      ]
    },
    {
      "cell_type": "code",
      "metadata": {
        "id": "2J8oFPrrJH7D"
      },
      "source": [
        "X_treino_lin, X_teste_lin, y_treino_lin, y_teste_lin = train_test_split(df_feat.drop('Trending Perf', axis=1), \n",
        "                                                    df_feat['Trending Perf'], test_size=0.25)"
      ],
      "execution_count": null,
      "outputs": []
    },
    {
      "cell_type": "markdown",
      "metadata": {
        "id": "jsLJne2TJdX1"
      },
      "source": [
        "**Prevendo a performance dos funcionários**"
      ]
    },
    {
      "cell_type": "code",
      "metadata": {
        "id": "UR_dEtFdJhYT"
      },
      "source": [
        "from sklearn.linear_model import LinearRegression\n",
        "reg_lin = LinearRegression()\n",
        "reg_lin.fit(X_treino_lin, y_treino_lin)\n",
        "previsoes_lin = reg_lin.predict(X_teste_lin)"
      ],
      "execution_count": null,
      "outputs": []
    },
    {
      "cell_type": "markdown",
      "metadata": {
        "id": "si3HMzEWJnZD"
      },
      "source": [
        "**Avaliando modelo**\n",
        "\n",
        "podemos ver que o modelo se saiu bem devido ao dataset só possuir valor 3 para o campo Trending Perf"
      ]
    },
    {
      "cell_type": "code",
      "metadata": {
        "id": "XpBbubkWJqQH",
        "colab": {
          "base_uri": "https://localhost:8080/",
          "height": 69
        },
        "outputId": "f0f0aeb2-7792-4b90-cc90-ef5b10cbe0fb"
      },
      "source": [
        "from sklearn import metrics\n",
        "\n",
        "print('MAE: ', metrics.mean_absolute_error(y_teste_lin, previsoes_lin))\n",
        "print('MSE: ', metrics.mean_squared_error(y_teste_lin, previsoes_lin))\n",
        "print('RMSE: ', np.sqrt(metrics.mean_squared_error(y_teste_lin, previsoes_lin)))"
      ],
      "execution_count": null,
      "outputs": [
        {
          "output_type": "stream",
          "text": [
            "MAE:  0.0\n",
            "MSE:  0.0\n",
            "RMSE:  0.0\n"
          ],
          "name": "stdout"
        }
      ]
    },
    {
      "cell_type": "code",
      "metadata": {
        "id": "niUsB2bOFp6D",
        "colab": {
          "base_uri": "https://localhost:8080/",
          "height": 296
        },
        "outputId": "c10a92e7-f66c-4228-acb2-cc9740fad250"
      },
      "source": [
        "sns.scatterplot(x=y_teste_lin, y=previsoes_lin)\n",
        "plt.xlabel('Y test')\n",
        "plt.ylabel('Predicted y')"
      ],
      "execution_count": null,
      "outputs": [
        {
          "output_type": "execute_result",
          "data": {
            "text/plain": [
              "Text(0, 0.5, 'Predicted y')"
            ]
          },
          "metadata": {
            "tags": []
          },
          "execution_count": 64
        },
        {
          "output_type": "display_data",
          "data": {
            "image/png": "[encoded data removed]",
            "text/plain": [
              "<Figure size 432x288 with 1 Axes>"
            ]
          },
          "metadata": {
            "tags": []
          }
        }
      ]
    }
  ]
}